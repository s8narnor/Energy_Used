{
  "nbformat": 4,
  "nbformat_minor": 0,
  "metadata": {
    "colab": {
      "name": "EngMod",
      "provenance": [],
      "collapsed_sections": [
        "KokgGC-WuQb9",
        "-ehDmEgYufxf",
        "0b8mXz_yu54a",
        "RJhV24KHvHrD",
        "xhK_xAhkvTYv",
        "bzhty65vvclG",
        "oCGV4sZLlLQl",
        "5YGYy6gZmLoD",
        "RJ0fA9zum4cE"
      ],
      "mount_file_id": "1b43Z0LGx1EKZpJo_KVa6lWg2SdEtR201",
      "authorship_tag": "ABX9TyN+8MUhp/UilhFz3OxHkt3i",
      "include_colab_link": true
    },
    "kernelspec": {
      "display_name": "Python 3",
      "name": "python3"
    },
    "language_info": {
      "name": "python"
    }
  },
  "cells": [
    {
      "cell_type": "markdown",
      "metadata": {
        "id": "view-in-github",
        "colab_type": "text"
      },
      "source": [
        "<a href=\"https://colab.research.google.com/github/s8narnor/Energy_Used/blob/main/EngMod.ipynb\" target=\"_parent\"><img src=\"https://colab.research.google.com/assets/colab-badge.svg\" alt=\"Open In Colab\"/></a>"
      ]
    },
    {
      "cell_type": "markdown",
      "metadata": {
        "id": "KokgGC-WuQb9"
      },
      "source": [
        "#**Data Preprocesssing**"
      ]
    },
    {
      "cell_type": "code",
      "metadata": {
        "id": "Z8BCdzVztBtW"
      },
      "source": [
        "#importing all essential libraries\n",
        "\n",
        "import numpy as np\n",
        "import pandas as pd\n",
        "\n",
        "import matplotlib.pyplot as plt\n",
        "from sklearn.preprocessing import MinMaxScaler\n",
        "\n",
        "import seaborn as sns\n",
        "sns.set()\n",
        "\n",
        "import warnings\n",
        "warnings.filterwarnings('ignore')\n",
        "\n",
        "import sys\n",
        "oldsyaatdout = sys.stdout\n",
        "\n",
        "class flushfile():\n",
        "    def __init__(self, f):\n",
        "        self.f = f\n",
        "    def __getattr__(self, name):\n",
        "        return object.__getattribute__(self.f, name)\n",
        "    def write(self, x):\n",
        "        self.f.write(x)\n",
        "        self.f.flush()\n",
        "    def flush(self):\n",
        "        self.f.flush()\n",
        "sys.stdout = flushfile(sys.stdout)"
      ],
      "execution_count": null,
      "outputs": []
    },
    {
      "cell_type": "code",
      "metadata": {
        "colab": {
          "base_uri": "https://localhost:8080/"
        },
        "id": "_yOSU_NIuAWA",
        "outputId": "781ecfbc-7309-42c1-d247-302c5df04e3b"
      },
      "source": [
        "#mounting drive\n",
        "\n",
        "%cd \"/content/drive/MyDrive/CSV Files\""
      ],
      "execution_count": null,
      "outputs": [
        {
          "output_type": "stream",
          "text": [
            "/content/drive/MyDrive/CSV Files\n"
          ],
          "name": "stdout"
        }
      ]
    },
    {
      "cell_type": "code",
      "metadata": {
        "colab": {
          "base_uri": "https://localhost:8080/"
        },
        "id": "SNwJTnvhjLhu",
        "outputId": "fcc12685-03df-4010-d178-3275d4db972a"
      },
      "source": [
        "#import the data\n",
        "\n",
        "eng_data = pd.read_excel(\"EngData.xlsx\")\n",
        "\n",
        "eng_data"
      ],
      "execution_count": null,
      "outputs": [
        {
          "output_type": "execute_result",
          "data": {
            "text/html": [
              "<div>\n",
              "<style scoped>\n",
              "    .dataframe tbody tr th:only-of-type {\n",
              "        vertical-align: middle;\n",
              "    }\n",
              "\n",
              "    .dataframe tbody tr th {\n",
              "        vertical-align: top;\n",
              "    }\n",
              "\n",
              "    .dataframe thead th {\n",
              "        text-align: right;\n",
              "    }\n",
              "</style>\n",
              "<table border=\"1\" class=\"dataframe\">\n",
              "  <thead>\n",
              "    <tr style=\"text-align: right;\">\n",
              "      <th></th>\n",
              "      <th>Enguse</th>\n",
              "      <th>GDP</th>\n",
              "      <th>TotlPop</th>\n",
              "      <th>ExportsGS</th>\n",
              "      <th>ImportsGS</th>\n",
              "    </tr>\n",
              "  </thead>\n",
              "  <tbody>\n",
              "    <tr>\n",
              "      <th>0</th>\n",
              "      <td>267.347563</td>\n",
              "      <td>67350988021</td>\n",
              "      <td>567868018</td>\n",
              "      <td>2469898946</td>\n",
              "      <td>2695656848</td>\n",
              "    </tr>\n",
              "    <tr>\n",
              "      <th>1</th>\n",
              "      <td>267.308741</td>\n",
              "      <td>71463193830</td>\n",
              "      <td>581087256</td>\n",
              "      <td>2878172458</td>\n",
              "      <td>2650505782</td>\n",
              "    </tr>\n",
              "    <tr>\n",
              "      <th>2</th>\n",
              "      <td>268.602742</td>\n",
              "      <td>85515269586</td>\n",
              "      <td>594770134</td>\n",
              "      <td>3599135190</td>\n",
              "      <td>4039170800</td>\n",
              "    </tr>\n",
              "    <tr>\n",
              "      <th>3</th>\n",
              "      <td>272.713549</td>\n",
              "      <td>99525899116</td>\n",
              "      <td>608802600</td>\n",
              "      <td>4808415668</td>\n",
              "      <td>5992025678</td>\n",
              "    </tr>\n",
              "    <tr>\n",
              "      <th>4</th>\n",
              "      <td>275.907785</td>\n",
              "      <td>98472796457</td>\n",
              "      <td>623102897</td>\n",
              "      <td>5560820024</td>\n",
              "      <td>6545404119</td>\n",
              "    </tr>\n",
              "    <tr>\n",
              "      <th>5</th>\n",
              "      <td>280.447908</td>\n",
              "      <td>102717000000</td>\n",
              "      <td>637630087</td>\n",
              "      <td>6868196413</td>\n",
              "      <td>6280836401</td>\n",
              "    </tr>\n",
              "    <tr>\n",
              "      <th>6</th>\n",
              "      <td>281.947667</td>\n",
              "      <td>121487000000</td>\n",
              "      <td>652408776</td>\n",
              "      <td>7754744526</td>\n",
              "      <td>7611094891</td>\n",
              "    </tr>\n",
              "    <tr>\n",
              "      <th>7</th>\n",
              "      <td>279.380860</td>\n",
              "      <td>137300000000</td>\n",
              "      <td>667499806</td>\n",
              "      <td>8670273695</td>\n",
              "      <td>9045599669</td>\n",
              "    </tr>\n",
              "    <tr>\n",
              "      <th>8</th>\n",
              "      <td>285.537777</td>\n",
              "      <td>152992000000</td>\n",
              "      <td>682995354</td>\n",
              "      <td>10326383042</td>\n",
              "      <td>12498142737</td>\n",
              "    </tr>\n",
              "    <tr>\n",
              "      <th>9</th>\n",
              "      <td>286.163830</td>\n",
              "      <td>186325000000</td>\n",
              "      <td>698952844</td>\n",
              "      <td>11439539834</td>\n",
              "      <td>17225826069</td>\n",
              "    </tr>\n",
              "    <tr>\n",
              "      <th>10</th>\n",
              "      <td>293.741760</td>\n",
              "      <td>193491000000</td>\n",
              "      <td>715384993</td>\n",
              "      <td>11485654131</td>\n",
              "      <td>16584540955</td>\n",
              "    </tr>\n",
              "    <tr>\n",
              "      <th>11</th>\n",
              "      <td>298.083938</td>\n",
              "      <td>200715000000</td>\n",
              "      <td>732239504</td>\n",
              "      <td>12009388989</td>\n",
              "      <td>16343487428</td>\n",
              "    </tr>\n",
              "    <tr>\n",
              "      <th>12</th>\n",
              "      <td>300.702227</td>\n",
              "      <td>218262000000</td>\n",
              "      <td>749428958</td>\n",
              "      <td>12741342695</td>\n",
              "      <td>17140058766</td>\n",
              "    </tr>\n",
              "    <tr>\n",
              "      <th>13</th>\n",
              "      <td>306.066708</td>\n",
              "      <td>212158000000</td>\n",
              "      <td>766833410</td>\n",
              "      <td>13330753441</td>\n",
              "      <td>16391291180</td>\n",
              "    </tr>\n",
              "    <tr>\n",
              "      <th>14</th>\n",
              "      <td>314.898047</td>\n",
              "      <td>232512000000</td>\n",
              "      <td>784360008</td>\n",
              "      <td>12217464494</td>\n",
              "      <td>17776651903</td>\n",
              "    </tr>\n",
              "    <tr>\n",
              "      <th>15</th>\n",
              "      <td>318.867323</td>\n",
              "      <td>248986000000</td>\n",
              "      <td>801975244</td>\n",
              "      <td>12937864154</td>\n",
              "      <td>17486411450</td>\n",
              "    </tr>\n",
              "    <tr>\n",
              "      <th>16</th>\n",
              "      <td>323.883122</td>\n",
              "      <td>279034000000</td>\n",
              "      <td>819682102</td>\n",
              "      <td>15638662914</td>\n",
              "      <td>19477194741</td>\n",
              "    </tr>\n",
              "    <tr>\n",
              "      <th>17</th>\n",
              "      <td>334.256828</td>\n",
              "      <td>296589000000</td>\n",
              "      <td>837468930</td>\n",
              "      <td>17899797606</td>\n",
              "      <td>22111392790</td>\n",
              "    </tr>\n",
              "    <tr>\n",
              "      <th>18</th>\n",
              "      <td>342.700995</td>\n",
              "      <td>296042000000</td>\n",
              "      <td>855334678</td>\n",
              "      <td>20770717304</td>\n",
              "      <td>24133378145</td>\n",
              "    </tr>\n",
              "    <tr>\n",
              "      <th>19</th>\n",
              "      <td>350.075734</td>\n",
              "      <td>320979000000</td>\n",
              "      <td>873277798</td>\n",
              "      <td>22639774912</td>\n",
              "      <td>27132072318</td>\n",
              "    </tr>\n",
              "    <tr>\n",
              "      <th>20</th>\n",
              "      <td>357.366760</td>\n",
              "      <td>270105000000</td>\n",
              "      <td>891273209</td>\n",
              "      <td>22943398073</td>\n",
              "      <td>22941358805</td>\n",
              "    </tr>\n",
              "    <tr>\n",
              "      <th>21</th>\n",
              "      <td>363.078346</td>\n",
              "      <td>288208000000</td>\n",
              "      <td>909307016</td>\n",
              "      <td>25486060891</td>\n",
              "      <td>27639684529</td>\n",
              "    </tr>\n",
              "    <tr>\n",
              "      <th>22</th>\n",
              "      <td>364.514502</td>\n",
              "      <td>279296000000</td>\n",
              "      <td>927403860</td>\n",
              "      <td>27466578243</td>\n",
              "      <td>27419390836</td>\n",
              "    </tr>\n",
              "    <tr>\n",
              "      <th>23</th>\n",
              "      <td>371.225913</td>\n",
              "      <td>327276000000</td>\n",
              "      <td>945601831</td>\n",
              "      <td>32361287610</td>\n",
              "      <td>33349576561</td>\n",
              "    </tr>\n",
              "    <tr>\n",
              "      <th>24</th>\n",
              "      <td>385.091857</td>\n",
              "      <td>360282000000</td>\n",
              "      <td>963922588</td>\n",
              "      <td>39068859788</td>\n",
              "      <td>43318430946</td>\n",
              "    </tr>\n",
              "    <tr>\n",
              "      <th>25</th>\n",
              "      <td>389.426518</td>\n",
              "      <td>392897000000</td>\n",
              "      <td>982365243</td>\n",
              "      <td>40803024157</td>\n",
              "      <td>45357287723</td>\n",
              "    </tr>\n",
              "    <tr>\n",
              "      <th>26</th>\n",
              "      <td>397.378185</td>\n",
              "      <td>415868000000</td>\n",
              "      <td>1000900030</td>\n",
              "      <td>44459245983</td>\n",
              "      <td>49607490117</td>\n",
              "    </tr>\n",
              "    <tr>\n",
              "      <th>27</th>\n",
              "      <td>399.498831</td>\n",
              "      <td>421351000000</td>\n",
              "      <td>1019483581</td>\n",
              "      <td>46426482685</td>\n",
              "      <td>53431584653</td>\n",
              "    </tr>\n",
              "    <tr>\n",
              "      <th>28</th>\n",
              "      <td>414.962492</td>\n",
              "      <td>458820000000</td>\n",
              "      <td>1038058156</td>\n",
              "      <td>52544410650</td>\n",
              "      <td>61314619861</td>\n",
              "    </tr>\n",
              "    <tr>\n",
              "      <th>29</th>\n",
              "      <td>417.287589</td>\n",
              "      <td>468395000000</td>\n",
              "      <td>1056575549</td>\n",
              "      <td>60878396866</td>\n",
              "      <td>65124164122</td>\n",
              "    </tr>\n",
              "    <tr>\n",
              "      <th>30</th>\n",
              "      <td>416.014444</td>\n",
              "      <td>485441000000</td>\n",
              "      <td>1075000085</td>\n",
              "      <td>60963525504</td>\n",
              "      <td>65218394082</td>\n",
              "    </tr>\n",
              "    <tr>\n",
              "      <th>31</th>\n",
              "      <td>421.270490</td>\n",
              "      <td>514938000000</td>\n",
              "      <td>1093317189</td>\n",
              "      <td>73452725999</td>\n",
              "      <td>78498577659</td>\n",
              "    </tr>\n",
              "    <tr>\n",
              "      <th>32</th>\n",
              "      <td>424.294346</td>\n",
              "      <td>607699000000</td>\n",
              "      <td>1111523144</td>\n",
              "      <td>90838365704</td>\n",
              "      <td>95071650073</td>\n",
              "    </tr>\n",
              "    <tr>\n",
              "      <th>33</th>\n",
              "      <td>439.703008</td>\n",
              "      <td>709149000000</td>\n",
              "      <td>1129623456</td>\n",
              "      <td>126648000000</td>\n",
              "      <td>139310000000</td>\n",
              "    </tr>\n",
              "    <tr>\n",
              "      <th>34</th>\n",
              "      <td>449.765856</td>\n",
              "      <td>820382000000</td>\n",
              "      <td>1147609927</td>\n",
              "      <td>160838000000</td>\n",
              "      <td>183736000000</td>\n",
              "    </tr>\n",
              "    <tr>\n",
              "      <th>35</th>\n",
              "      <td>466.138261</td>\n",
              "      <td>940260000000</td>\n",
              "      <td>1165486291</td>\n",
              "      <td>199974000000</td>\n",
              "      <td>229955000000</td>\n",
              "    </tr>\n",
              "    <tr>\n",
              "      <th>36</th>\n",
              "      <td>485.099628</td>\n",
              "      <td>1216740000000</td>\n",
              "      <td>1183209472</td>\n",
              "      <td>253077000000</td>\n",
              "      <td>302804000000</td>\n",
              "    </tr>\n",
              "    <tr>\n",
              "      <th>37</th>\n",
              "      <td>501.559635</td>\n",
              "      <td>1198900000000</td>\n",
              "      <td>1200669765</td>\n",
              "      <td>288902000000</td>\n",
              "      <td>350927000000</td>\n",
              "    </tr>\n",
              "    <tr>\n",
              "      <th>38</th>\n",
              "      <td>544.626598</td>\n",
              "      <td>1341890000000</td>\n",
              "      <td>1217726215</td>\n",
              "      <td>273752000000</td>\n",
              "      <td>347178000000</td>\n",
              "    </tr>\n",
              "    <tr>\n",
              "      <th>39</th>\n",
              "      <td>561.653403</td>\n",
              "      <td>1675620000000</td>\n",
              "      <td>1234281170</td>\n",
              "      <td>375353000000</td>\n",
              "      <td>449974000000</td>\n",
              "    </tr>\n",
              "    <tr>\n",
              "      <th>40</th>\n",
              "      <td>577.994061</td>\n",
              "      <td>1823050000000</td>\n",
              "      <td>1250288729</td>\n",
              "      <td>447384000000</td>\n",
              "      <td>566667000000</td>\n",
              "    </tr>\n",
              "    <tr>\n",
              "      <th>41</th>\n",
              "      <td>599.154414</td>\n",
              "      <td>1827640000000</td>\n",
              "      <td>1265782790</td>\n",
              "      <td>448401000000</td>\n",
              "      <td>571307000000</td>\n",
              "    </tr>\n",
              "    <tr>\n",
              "      <th>42</th>\n",
              "      <td>605.792141</td>\n",
              "      <td>1856720000000</td>\n",
              "      <td>1280846129</td>\n",
              "      <td>472180000000</td>\n",
              "      <td>527555000000</td>\n",
              "    </tr>\n",
              "    <tr>\n",
              "      <th>43</th>\n",
              "      <td>636.570156</td>\n",
              "      <td>2039130000000</td>\n",
              "      <td>1295604184</td>\n",
              "      <td>468346000000</td>\n",
              "      <td>529240000000</td>\n",
              "    </tr>\n",
              "  </tbody>\n",
              "</table>\n",
              "</div>"
            ],
            "text/plain": [
              "        Enguse            GDP     TotlPop     ExportsGS     ImportsGS\n",
              "0   267.347563    67350988021   567868018    2469898946    2695656848\n",
              "1   267.308741    71463193830   581087256    2878172458    2650505782\n",
              "2   268.602742    85515269586   594770134    3599135190    4039170800\n",
              "3   272.713549    99525899116   608802600    4808415668    5992025678\n",
              "4   275.907785    98472796457   623102897    5560820024    6545404119\n",
              "5   280.447908   102717000000   637630087    6868196413    6280836401\n",
              "6   281.947667   121487000000   652408776    7754744526    7611094891\n",
              "7   279.380860   137300000000   667499806    8670273695    9045599669\n",
              "8   285.537777   152992000000   682995354   10326383042   12498142737\n",
              "9   286.163830   186325000000   698952844   11439539834   17225826069\n",
              "10  293.741760   193491000000   715384993   11485654131   16584540955\n",
              "11  298.083938   200715000000   732239504   12009388989   16343487428\n",
              "12  300.702227   218262000000   749428958   12741342695   17140058766\n",
              "13  306.066708   212158000000   766833410   13330753441   16391291180\n",
              "14  314.898047   232512000000   784360008   12217464494   17776651903\n",
              "15  318.867323   248986000000   801975244   12937864154   17486411450\n",
              "16  323.883122   279034000000   819682102   15638662914   19477194741\n",
              "17  334.256828   296589000000   837468930   17899797606   22111392790\n",
              "18  342.700995   296042000000   855334678   20770717304   24133378145\n",
              "19  350.075734   320979000000   873277798   22639774912   27132072318\n",
              "20  357.366760   270105000000   891273209   22943398073   22941358805\n",
              "21  363.078346   288208000000   909307016   25486060891   27639684529\n",
              "22  364.514502   279296000000   927403860   27466578243   27419390836\n",
              "23  371.225913   327276000000   945601831   32361287610   33349576561\n",
              "24  385.091857   360282000000   963922588   39068859788   43318430946\n",
              "25  389.426518   392897000000   982365243   40803024157   45357287723\n",
              "26  397.378185   415868000000  1000900030   44459245983   49607490117\n",
              "27  399.498831   421351000000  1019483581   46426482685   53431584653\n",
              "28  414.962492   458820000000  1038058156   52544410650   61314619861\n",
              "29  417.287589   468395000000  1056575549   60878396866   65124164122\n",
              "30  416.014444   485441000000  1075000085   60963525504   65218394082\n",
              "31  421.270490   514938000000  1093317189   73452725999   78498577659\n",
              "32  424.294346   607699000000  1111523144   90838365704   95071650073\n",
              "33  439.703008   709149000000  1129623456  126648000000  139310000000\n",
              "34  449.765856   820382000000  1147609927  160838000000  183736000000\n",
              "35  466.138261   940260000000  1165486291  199974000000  229955000000\n",
              "36  485.099628  1216740000000  1183209472  253077000000  302804000000\n",
              "37  501.559635  1198900000000  1200669765  288902000000  350927000000\n",
              "38  544.626598  1341890000000  1217726215  273752000000  347178000000\n",
              "39  561.653403  1675620000000  1234281170  375353000000  449974000000\n",
              "40  577.994061  1823050000000  1250288729  447384000000  566667000000\n",
              "41  599.154414  1827640000000  1265782790  448401000000  571307000000\n",
              "42  605.792141  1856720000000  1280846129  472180000000  527555000000\n",
              "43  636.570156  2039130000000  1295604184  468346000000  529240000000"
            ]
          },
          "metadata": {},
          "execution_count": 3
        }
      ]
    },
    {
      "cell_type": "code",
      "metadata": {
        "colab": {
          "base_uri": "https://localhost:8080/"
        },
        "id": "0zuosdO2jOki",
        "outputId": "62e9fa25-641f-4d04-eba5-5a3df460d468"
      },
      "source": [
        "eng_data.isnull() "
      ],
      "execution_count": null,
      "outputs": [
        {
          "output_type": "execute_result",
          "data": {
            "text/html": [
              "<div>\n",
              "<style scoped>\n",
              "    .dataframe tbody tr th:only-of-type {\n",
              "        vertical-align: middle;\n",
              "    }\n",
              "\n",
              "    .dataframe tbody tr th {\n",
              "        vertical-align: top;\n",
              "    }\n",
              "\n",
              "    .dataframe thead th {\n",
              "        text-align: right;\n",
              "    }\n",
              "</style>\n",
              "<table border=\"1\" class=\"dataframe\">\n",
              "  <thead>\n",
              "    <tr style=\"text-align: right;\">\n",
              "      <th></th>\n",
              "      <th>Enguse</th>\n",
              "      <th>GDP</th>\n",
              "      <th>TotlPop</th>\n",
              "      <th>ExportsGS</th>\n",
              "      <th>ImportsGS</th>\n",
              "    </tr>\n",
              "  </thead>\n",
              "  <tbody>\n",
              "    <tr>\n",
              "      <th>0</th>\n",
              "      <td>False</td>\n",
              "      <td>False</td>\n",
              "      <td>False</td>\n",
              "      <td>False</td>\n",
              "      <td>False</td>\n",
              "    </tr>\n",
              "    <tr>\n",
              "      <th>1</th>\n",
              "      <td>False</td>\n",
              "      <td>False</td>\n",
              "      <td>False</td>\n",
              "      <td>False</td>\n",
              "      <td>False</td>\n",
              "    </tr>\n",
              "    <tr>\n",
              "      <th>2</th>\n",
              "      <td>False</td>\n",
              "      <td>False</td>\n",
              "      <td>False</td>\n",
              "      <td>False</td>\n",
              "      <td>False</td>\n",
              "    </tr>\n",
              "    <tr>\n",
              "      <th>3</th>\n",
              "      <td>False</td>\n",
              "      <td>False</td>\n",
              "      <td>False</td>\n",
              "      <td>False</td>\n",
              "      <td>False</td>\n",
              "    </tr>\n",
              "    <tr>\n",
              "      <th>4</th>\n",
              "      <td>False</td>\n",
              "      <td>False</td>\n",
              "      <td>False</td>\n",
              "      <td>False</td>\n",
              "      <td>False</td>\n",
              "    </tr>\n",
              "    <tr>\n",
              "      <th>5</th>\n",
              "      <td>False</td>\n",
              "      <td>False</td>\n",
              "      <td>False</td>\n",
              "      <td>False</td>\n",
              "      <td>False</td>\n",
              "    </tr>\n",
              "    <tr>\n",
              "      <th>6</th>\n",
              "      <td>False</td>\n",
              "      <td>False</td>\n",
              "      <td>False</td>\n",
              "      <td>False</td>\n",
              "      <td>False</td>\n",
              "    </tr>\n",
              "    <tr>\n",
              "      <th>7</th>\n",
              "      <td>False</td>\n",
              "      <td>False</td>\n",
              "      <td>False</td>\n",
              "      <td>False</td>\n",
              "      <td>False</td>\n",
              "    </tr>\n",
              "    <tr>\n",
              "      <th>8</th>\n",
              "      <td>False</td>\n",
              "      <td>False</td>\n",
              "      <td>False</td>\n",
              "      <td>False</td>\n",
              "      <td>False</td>\n",
              "    </tr>\n",
              "    <tr>\n",
              "      <th>9</th>\n",
              "      <td>False</td>\n",
              "      <td>False</td>\n",
              "      <td>False</td>\n",
              "      <td>False</td>\n",
              "      <td>False</td>\n",
              "    </tr>\n",
              "    <tr>\n",
              "      <th>10</th>\n",
              "      <td>False</td>\n",
              "      <td>False</td>\n",
              "      <td>False</td>\n",
              "      <td>False</td>\n",
              "      <td>False</td>\n",
              "    </tr>\n",
              "    <tr>\n",
              "      <th>11</th>\n",
              "      <td>False</td>\n",
              "      <td>False</td>\n",
              "      <td>False</td>\n",
              "      <td>False</td>\n",
              "      <td>False</td>\n",
              "    </tr>\n",
              "    <tr>\n",
              "      <th>12</th>\n",
              "      <td>False</td>\n",
              "      <td>False</td>\n",
              "      <td>False</td>\n",
              "      <td>False</td>\n",
              "      <td>False</td>\n",
              "    </tr>\n",
              "    <tr>\n",
              "      <th>13</th>\n",
              "      <td>False</td>\n",
              "      <td>False</td>\n",
              "      <td>False</td>\n",
              "      <td>False</td>\n",
              "      <td>False</td>\n",
              "    </tr>\n",
              "    <tr>\n",
              "      <th>14</th>\n",
              "      <td>False</td>\n",
              "      <td>False</td>\n",
              "      <td>False</td>\n",
              "      <td>False</td>\n",
              "      <td>False</td>\n",
              "    </tr>\n",
              "    <tr>\n",
              "      <th>15</th>\n",
              "      <td>False</td>\n",
              "      <td>False</td>\n",
              "      <td>False</td>\n",
              "      <td>False</td>\n",
              "      <td>False</td>\n",
              "    </tr>\n",
              "    <tr>\n",
              "      <th>16</th>\n",
              "      <td>False</td>\n",
              "      <td>False</td>\n",
              "      <td>False</td>\n",
              "      <td>False</td>\n",
              "      <td>False</td>\n",
              "    </tr>\n",
              "    <tr>\n",
              "      <th>17</th>\n",
              "      <td>False</td>\n",
              "      <td>False</td>\n",
              "      <td>False</td>\n",
              "      <td>False</td>\n",
              "      <td>False</td>\n",
              "    </tr>\n",
              "    <tr>\n",
              "      <th>18</th>\n",
              "      <td>False</td>\n",
              "      <td>False</td>\n",
              "      <td>False</td>\n",
              "      <td>False</td>\n",
              "      <td>False</td>\n",
              "    </tr>\n",
              "    <tr>\n",
              "      <th>19</th>\n",
              "      <td>False</td>\n",
              "      <td>False</td>\n",
              "      <td>False</td>\n",
              "      <td>False</td>\n",
              "      <td>False</td>\n",
              "    </tr>\n",
              "    <tr>\n",
              "      <th>20</th>\n",
              "      <td>False</td>\n",
              "      <td>False</td>\n",
              "      <td>False</td>\n",
              "      <td>False</td>\n",
              "      <td>False</td>\n",
              "    </tr>\n",
              "    <tr>\n",
              "      <th>21</th>\n",
              "      <td>False</td>\n",
              "      <td>False</td>\n",
              "      <td>False</td>\n",
              "      <td>False</td>\n",
              "      <td>False</td>\n",
              "    </tr>\n",
              "    <tr>\n",
              "      <th>22</th>\n",
              "      <td>False</td>\n",
              "      <td>False</td>\n",
              "      <td>False</td>\n",
              "      <td>False</td>\n",
              "      <td>False</td>\n",
              "    </tr>\n",
              "    <tr>\n",
              "      <th>23</th>\n",
              "      <td>False</td>\n",
              "      <td>False</td>\n",
              "      <td>False</td>\n",
              "      <td>False</td>\n",
              "      <td>False</td>\n",
              "    </tr>\n",
              "    <tr>\n",
              "      <th>24</th>\n",
              "      <td>False</td>\n",
              "      <td>False</td>\n",
              "      <td>False</td>\n",
              "      <td>False</td>\n",
              "      <td>False</td>\n",
              "    </tr>\n",
              "    <tr>\n",
              "      <th>25</th>\n",
              "      <td>False</td>\n",
              "      <td>False</td>\n",
              "      <td>False</td>\n",
              "      <td>False</td>\n",
              "      <td>False</td>\n",
              "    </tr>\n",
              "    <tr>\n",
              "      <th>26</th>\n",
              "      <td>False</td>\n",
              "      <td>False</td>\n",
              "      <td>False</td>\n",
              "      <td>False</td>\n",
              "      <td>False</td>\n",
              "    </tr>\n",
              "    <tr>\n",
              "      <th>27</th>\n",
              "      <td>False</td>\n",
              "      <td>False</td>\n",
              "      <td>False</td>\n",
              "      <td>False</td>\n",
              "      <td>False</td>\n",
              "    </tr>\n",
              "    <tr>\n",
              "      <th>28</th>\n",
              "      <td>False</td>\n",
              "      <td>False</td>\n",
              "      <td>False</td>\n",
              "      <td>False</td>\n",
              "      <td>False</td>\n",
              "    </tr>\n",
              "    <tr>\n",
              "      <th>29</th>\n",
              "      <td>False</td>\n",
              "      <td>False</td>\n",
              "      <td>False</td>\n",
              "      <td>False</td>\n",
              "      <td>False</td>\n",
              "    </tr>\n",
              "    <tr>\n",
              "      <th>30</th>\n",
              "      <td>False</td>\n",
              "      <td>False</td>\n",
              "      <td>False</td>\n",
              "      <td>False</td>\n",
              "      <td>False</td>\n",
              "    </tr>\n",
              "    <tr>\n",
              "      <th>31</th>\n",
              "      <td>False</td>\n",
              "      <td>False</td>\n",
              "      <td>False</td>\n",
              "      <td>False</td>\n",
              "      <td>False</td>\n",
              "    </tr>\n",
              "    <tr>\n",
              "      <th>32</th>\n",
              "      <td>False</td>\n",
              "      <td>False</td>\n",
              "      <td>False</td>\n",
              "      <td>False</td>\n",
              "      <td>False</td>\n",
              "    </tr>\n",
              "    <tr>\n",
              "      <th>33</th>\n",
              "      <td>False</td>\n",
              "      <td>False</td>\n",
              "      <td>False</td>\n",
              "      <td>False</td>\n",
              "      <td>False</td>\n",
              "    </tr>\n",
              "    <tr>\n",
              "      <th>34</th>\n",
              "      <td>False</td>\n",
              "      <td>False</td>\n",
              "      <td>False</td>\n",
              "      <td>False</td>\n",
              "      <td>False</td>\n",
              "    </tr>\n",
              "    <tr>\n",
              "      <th>35</th>\n",
              "      <td>False</td>\n",
              "      <td>False</td>\n",
              "      <td>False</td>\n",
              "      <td>False</td>\n",
              "      <td>False</td>\n",
              "    </tr>\n",
              "    <tr>\n",
              "      <th>36</th>\n",
              "      <td>False</td>\n",
              "      <td>False</td>\n",
              "      <td>False</td>\n",
              "      <td>False</td>\n",
              "      <td>False</td>\n",
              "    </tr>\n",
              "    <tr>\n",
              "      <th>37</th>\n",
              "      <td>False</td>\n",
              "      <td>False</td>\n",
              "      <td>False</td>\n",
              "      <td>False</td>\n",
              "      <td>False</td>\n",
              "    </tr>\n",
              "    <tr>\n",
              "      <th>38</th>\n",
              "      <td>False</td>\n",
              "      <td>False</td>\n",
              "      <td>False</td>\n",
              "      <td>False</td>\n",
              "      <td>False</td>\n",
              "    </tr>\n",
              "    <tr>\n",
              "      <th>39</th>\n",
              "      <td>False</td>\n",
              "      <td>False</td>\n",
              "      <td>False</td>\n",
              "      <td>False</td>\n",
              "      <td>False</td>\n",
              "    </tr>\n",
              "    <tr>\n",
              "      <th>40</th>\n",
              "      <td>False</td>\n",
              "      <td>False</td>\n",
              "      <td>False</td>\n",
              "      <td>False</td>\n",
              "      <td>False</td>\n",
              "    </tr>\n",
              "    <tr>\n",
              "      <th>41</th>\n",
              "      <td>False</td>\n",
              "      <td>False</td>\n",
              "      <td>False</td>\n",
              "      <td>False</td>\n",
              "      <td>False</td>\n",
              "    </tr>\n",
              "    <tr>\n",
              "      <th>42</th>\n",
              "      <td>False</td>\n",
              "      <td>False</td>\n",
              "      <td>False</td>\n",
              "      <td>False</td>\n",
              "      <td>False</td>\n",
              "    </tr>\n",
              "    <tr>\n",
              "      <th>43</th>\n",
              "      <td>False</td>\n",
              "      <td>False</td>\n",
              "      <td>False</td>\n",
              "      <td>False</td>\n",
              "      <td>False</td>\n",
              "    </tr>\n",
              "  </tbody>\n",
              "</table>\n",
              "</div>"
            ],
            "text/plain": [
              "    Enguse    GDP  TotlPop  ExportsGS  ImportsGS\n",
              "0    False  False    False      False      False\n",
              "1    False  False    False      False      False\n",
              "2    False  False    False      False      False\n",
              "3    False  False    False      False      False\n",
              "4    False  False    False      False      False\n",
              "5    False  False    False      False      False\n",
              "6    False  False    False      False      False\n",
              "7    False  False    False      False      False\n",
              "8    False  False    False      False      False\n",
              "9    False  False    False      False      False\n",
              "10   False  False    False      False      False\n",
              "11   False  False    False      False      False\n",
              "12   False  False    False      False      False\n",
              "13   False  False    False      False      False\n",
              "14   False  False    False      False      False\n",
              "15   False  False    False      False      False\n",
              "16   False  False    False      False      False\n",
              "17   False  False    False      False      False\n",
              "18   False  False    False      False      False\n",
              "19   False  False    False      False      False\n",
              "20   False  False    False      False      False\n",
              "21   False  False    False      False      False\n",
              "22   False  False    False      False      False\n",
              "23   False  False    False      False      False\n",
              "24   False  False    False      False      False\n",
              "25   False  False    False      False      False\n",
              "26   False  False    False      False      False\n",
              "27   False  False    False      False      False\n",
              "28   False  False    False      False      False\n",
              "29   False  False    False      False      False\n",
              "30   False  False    False      False      False\n",
              "31   False  False    False      False      False\n",
              "32   False  False    False      False      False\n",
              "33   False  False    False      False      False\n",
              "34   False  False    False      False      False\n",
              "35   False  False    False      False      False\n",
              "36   False  False    False      False      False\n",
              "37   False  False    False      False      False\n",
              "38   False  False    False      False      False\n",
              "39   False  False    False      False      False\n",
              "40   False  False    False      False      False\n",
              "41   False  False    False      False      False\n",
              "42   False  False    False      False      False\n",
              "43   False  False    False      False      False"
            ]
          },
          "metadata": {},
          "execution_count": 4
        }
      ]
    },
    {
      "cell_type": "code",
      "metadata": {
        "colab": {
          "base_uri": "https://localhost:8080/"
        },
        "id": "h_ewuTthjRny",
        "outputId": "52a47654-2b50-4b4a-d135-cb1512f3ac27"
      },
      "source": [
        "#data statistics\n",
        "\n",
        "eng_data.describe()"
      ],
      "execution_count": null,
      "outputs": [
        {
          "output_type": "execute_result",
          "data": {
            "text/html": [
              "<div>\n",
              "<style scoped>\n",
              "    .dataframe tbody tr th:only-of-type {\n",
              "        vertical-align: middle;\n",
              "    }\n",
              "\n",
              "    .dataframe tbody tr th {\n",
              "        vertical-align: top;\n",
              "    }\n",
              "\n",
              "    .dataframe thead th {\n",
              "        text-align: right;\n",
              "    }\n",
              "</style>\n",
              "<table border=\"1\" class=\"dataframe\">\n",
              "  <thead>\n",
              "    <tr style=\"text-align: right;\">\n",
              "      <th></th>\n",
              "      <th>Enguse</th>\n",
              "      <th>GDP</th>\n",
              "      <th>TotlPop</th>\n",
              "      <th>ExportsGS</th>\n",
              "      <th>ImportsGS</th>\n",
              "    </tr>\n",
              "  </thead>\n",
              "  <tbody>\n",
              "    <tr>\n",
              "      <th>count</th>\n",
              "      <td>44.000000</td>\n",
              "      <td>4.400000e+01</td>\n",
              "      <td>4.400000e+01</td>\n",
              "      <td>4.400000e+01</td>\n",
              "      <td>4.400000e+01</td>\n",
              "    </tr>\n",
              "    <tr>\n",
              "      <th>mean</th>\n",
              "      <td>384.956876</td>\n",
              "      <td>5.536812e+11</td>\n",
              "      <td>9.235673e+08</td>\n",
              "      <td>9.883169e+10</td>\n",
              "      <td>1.167297e+11</td>\n",
              "    </tr>\n",
              "    <tr>\n",
              "      <th>std</th>\n",
              "      <td>103.783309</td>\n",
              "      <td>5.587413e+11</td>\n",
              "      <td>2.248052e+08</td>\n",
              "      <td>1.443553e+11</td>\n",
              "      <td>1.735260e+11</td>\n",
              "    </tr>\n",
              "    <tr>\n",
              "      <th>min</th>\n",
              "      <td>267.308741</td>\n",
              "      <td>6.735099e+10</td>\n",
              "      <td>5.678680e+08</td>\n",
              "      <td>2.469899e+09</td>\n",
              "      <td>2.650506e+09</td>\n",
              "    </tr>\n",
              "    <tr>\n",
              "      <th>25%</th>\n",
              "      <td>296.998394</td>\n",
              "      <td>1.989090e+11</td>\n",
              "      <td>7.280259e+08</td>\n",
              "      <td>1.187846e+10</td>\n",
              "      <td>1.653623e+10</td>\n",
              "    </tr>\n",
              "    <tr>\n",
              "      <th>50%</th>\n",
              "      <td>363.796424</td>\n",
              "      <td>3.087840e+11</td>\n",
              "      <td>9.183554e+08</td>\n",
              "      <td>2.647632e+10</td>\n",
              "      <td>2.752954e+10</td>\n",
              "    </tr>\n",
              "    <tr>\n",
              "      <th>75%</th>\n",
              "      <td>428.146511</td>\n",
              "      <td>6.330615e+11</td>\n",
              "      <td>1.116048e+09</td>\n",
              "      <td>9.979077e+10</td>\n",
              "      <td>1.061312e+11</td>\n",
              "    </tr>\n",
              "    <tr>\n",
              "      <th>max</th>\n",
              "      <td>636.570156</td>\n",
              "      <td>2.039130e+12</td>\n",
              "      <td>1.295604e+09</td>\n",
              "      <td>4.721800e+11</td>\n",
              "      <td>5.713070e+11</td>\n",
              "    </tr>\n",
              "  </tbody>\n",
              "</table>\n",
              "</div>"
            ],
            "text/plain": [
              "           Enguse           GDP       TotlPop     ExportsGS     ImportsGS\n",
              "count   44.000000  4.400000e+01  4.400000e+01  4.400000e+01  4.400000e+01\n",
              "mean   384.956876  5.536812e+11  9.235673e+08  9.883169e+10  1.167297e+11\n",
              "std    103.783309  5.587413e+11  2.248052e+08  1.443553e+11  1.735260e+11\n",
              "min    267.308741  6.735099e+10  5.678680e+08  2.469899e+09  2.650506e+09\n",
              "25%    296.998394  1.989090e+11  7.280259e+08  1.187846e+10  1.653623e+10\n",
              "50%    363.796424  3.087840e+11  9.183554e+08  2.647632e+10  2.752954e+10\n",
              "75%    428.146511  6.330615e+11  1.116048e+09  9.979077e+10  1.061312e+11\n",
              "max    636.570156  2.039130e+12  1.295604e+09  4.721800e+11  5.713070e+11"
            ]
          },
          "metadata": {},
          "execution_count": 5
        }
      ]
    },
    {
      "cell_type": "code",
      "metadata": {
        "colab": {
          "base_uri": "https://localhost:8080/"
        },
        "id": "My_epGPNjUH0",
        "outputId": "39b76759-de79-4168-89ab-e9cb981235e2"
      },
      "source": [
        "#histogram\n",
        "\n",
        "eng_data.hist(bins = 30, figsize=(20,18))"
      ],
      "execution_count": null,
      "outputs": [
        {
          "output_type": "execute_result",
          "data": {
            "text/plain": [
              "array([[<matplotlib.axes._subplots.AxesSubplot object at 0x7f500fbdac90>,\n",
              "        <matplotlib.axes._subplots.AxesSubplot object at 0x7f501ed1ea90>],\n",
              "       [<matplotlib.axes._subplots.AxesSubplot object at 0x7f500fa75e10>,\n",
              "        <matplotlib.axes._subplots.AxesSubplot object at 0x7f500fa374d0>],\n",
              "       [<matplotlib.axes._subplots.AxesSubplot object at 0x7f500f9ecb50>,\n",
              "        <matplotlib.axes._subplots.AxesSubplot object at 0x7f500f9ae210>]],\n",
              "      dtype=object)"
            ]
          },
          "metadata": {},
          "execution_count": 6
        },
        {
          "output_type": "display_data",
          "data": {
            "image/png": "[encoded data removed]",
            "text/plain": [
              "<Figure size 1440x1296 with 6 Axes>"
            ]
          },
          "metadata": {
            "needs_background": "light"
          }
        }
      ]
    },
    {
      "cell_type": "code",
      "metadata": {
        "colab": {
          "base_uri": "https://localhost:8080/"
        },
        "id": "cN6oksrpjXn1",
        "outputId": "ce297fda-7251-453b-c9a4-179dd540bb9c"
      },
      "source": [
        "#boxplot\n",
        "\n",
        "eng_data.boxplot(figsize=(25,25))"
      ],
      "execution_count": null,
      "outputs": [
        {
          "output_type": "execute_result",
          "data": {
            "text/plain": [
              "<matplotlib.axes._subplots.AxesSubplot at 0x7f500f916390>"
            ]
          },
          "metadata": {},
          "execution_count": 7
        },
        {
          "output_type": "display_data",
          "data": {
            "image/png": "[encoded data removed]",
            "text/plain": [
              "<Figure size 1800x1800 with 1 Axes>"
            ]
          },
          "metadata": {
            "needs_background": "light"
          }
        }
      ]
    },
    {
      "cell_type": "code",
      "metadata": {
        "colab": {
          "base_uri": "https://localhost:8080/"
        },
        "id": "nmGsmSiKjbWE",
        "outputId": "d4571538-512b-4606-9e5f-6625436831f1"
      },
      "source": [
        "\n",
        "\n",
        "train_labels = eng_data.copy(deep = True).drop(['Enguse'], axis = 1)\n",
        "Enguse_train = eng_data[\"Enguse\"]\n",
        "\n",
        "train_labels"
      ],
      "execution_count": null,
      "outputs": [
        {
          "output_type": "execute_result",
          "data": {
            "text/html": [
              "<div>\n",
              "<style scoped>\n",
              "    .dataframe tbody tr th:only-of-type {\n",
              "        vertical-align: middle;\n",
              "    }\n",
              "\n",
              "    .dataframe tbody tr th {\n",
              "        vertical-align: top;\n",
              "    }\n",
              "\n",
              "    .dataframe thead th {\n",
              "        text-align: right;\n",
              "    }\n",
              "</style>\n",
              "<table border=\"1\" class=\"dataframe\">\n",
              "  <thead>\n",
              "    <tr style=\"text-align: right;\">\n",
              "      <th></th>\n",
              "      <th>GDP</th>\n",
              "      <th>TotlPop</th>\n",
              "      <th>ExportsGS</th>\n",
              "      <th>ImportsGS</th>\n",
              "    </tr>\n",
              "  </thead>\n",
              "  <tbody>\n",
              "    <tr>\n",
              "      <th>0</th>\n",
              "      <td>67350988021</td>\n",
              "      <td>567868018</td>\n",
              "      <td>2469898946</td>\n",
              "      <td>2695656848</td>\n",
              "    </tr>\n",
              "    <tr>\n",
              "      <th>1</th>\n",
              "      <td>71463193830</td>\n",
              "      <td>581087256</td>\n",
              "      <td>2878172458</td>\n",
              "      <td>2650505782</td>\n",
              "    </tr>\n",
              "    <tr>\n",
              "      <th>2</th>\n",
              "      <td>85515269586</td>\n",
              "      <td>594770134</td>\n",
              "      <td>3599135190</td>\n",
              "      <td>4039170800</td>\n",
              "    </tr>\n",
              "    <tr>\n",
              "      <th>3</th>\n",
              "      <td>99525899116</td>\n",
              "      <td>608802600</td>\n",
              "      <td>4808415668</td>\n",
              "      <td>5992025678</td>\n",
              "    </tr>\n",
              "    <tr>\n",
              "      <th>4</th>\n",
              "      <td>98472796457</td>\n",
              "      <td>623102897</td>\n",
              "      <td>5560820024</td>\n",
              "      <td>6545404119</td>\n",
              "    </tr>\n",
              "    <tr>\n",
              "      <th>5</th>\n",
              "      <td>102717000000</td>\n",
              "      <td>637630087</td>\n",
              "      <td>6868196413</td>\n",
              "      <td>6280836401</td>\n",
              "    </tr>\n",
              "    <tr>\n",
              "      <th>6</th>\n",
              "      <td>121487000000</td>\n",
              "      <td>652408776</td>\n",
              "      <td>7754744526</td>\n",
              "      <td>7611094891</td>\n",
              "    </tr>\n",
              "    <tr>\n",
              "      <th>7</th>\n",
              "      <td>137300000000</td>\n",
              "      <td>667499806</td>\n",
              "      <td>8670273695</td>\n",
              "      <td>9045599669</td>\n",
              "    </tr>\n",
              "    <tr>\n",
              "      <th>8</th>\n",
              "      <td>152992000000</td>\n",
              "      <td>682995354</td>\n",
              "      <td>10326383042</td>\n",
              "      <td>12498142737</td>\n",
              "    </tr>\n",
              "    <tr>\n",
              "      <th>9</th>\n",
              "      <td>186325000000</td>\n",
              "      <td>698952844</td>\n",
              "      <td>11439539834</td>\n",
              "      <td>17225826069</td>\n",
              "    </tr>\n",
              "    <tr>\n",
              "      <th>10</th>\n",
              "      <td>193491000000</td>\n",
              "      <td>715384993</td>\n",
              "      <td>11485654131</td>\n",
              "      <td>16584540955</td>\n",
              "    </tr>\n",
              "    <tr>\n",
              "      <th>11</th>\n",
              "      <td>200715000000</td>\n",
              "      <td>732239504</td>\n",
              "      <td>12009388989</td>\n",
              "      <td>16343487428</td>\n",
              "    </tr>\n",
              "    <tr>\n",
              "      <th>12</th>\n",
              "      <td>218262000000</td>\n",
              "      <td>749428958</td>\n",
              "      <td>12741342695</td>\n",
              "      <td>17140058766</td>\n",
              "    </tr>\n",
              "    <tr>\n",
              "      <th>13</th>\n",
              "      <td>212158000000</td>\n",
              "      <td>766833410</td>\n",
              "      <td>13330753441</td>\n",
              "      <td>16391291180</td>\n",
              "    </tr>\n",
              "    <tr>\n",
              "      <th>14</th>\n",
              "      <td>232512000000</td>\n",
              "      <td>784360008</td>\n",
              "      <td>12217464494</td>\n",
              "      <td>17776651903</td>\n",
              "    </tr>\n",
              "    <tr>\n",
              "      <th>15</th>\n",
              "      <td>248986000000</td>\n",
              "      <td>801975244</td>\n",
              "      <td>12937864154</td>\n",
              "      <td>17486411450</td>\n",
              "    </tr>\n",
              "    <tr>\n",
              "      <th>16</th>\n",
              "      <td>279034000000</td>\n",
              "      <td>819682102</td>\n",
              "      <td>15638662914</td>\n",
              "      <td>19477194741</td>\n",
              "    </tr>\n",
              "    <tr>\n",
              "      <th>17</th>\n",
              "      <td>296589000000</td>\n",
              "      <td>837468930</td>\n",
              "      <td>17899797606</td>\n",
              "      <td>22111392790</td>\n",
              "    </tr>\n",
              "    <tr>\n",
              "      <th>18</th>\n",
              "      <td>296042000000</td>\n",
              "      <td>855334678</td>\n",
              "      <td>20770717304</td>\n",
              "      <td>24133378145</td>\n",
              "    </tr>\n",
              "    <tr>\n",
              "      <th>19</th>\n",
              "      <td>320979000000</td>\n",
              "      <td>873277798</td>\n",
              "      <td>22639774912</td>\n",
              "      <td>27132072318</td>\n",
              "    </tr>\n",
              "    <tr>\n",
              "      <th>20</th>\n",
              "      <td>270105000000</td>\n",
              "      <td>891273209</td>\n",
              "      <td>22943398073</td>\n",
              "      <td>22941358805</td>\n",
              "    </tr>\n",
              "    <tr>\n",
              "      <th>21</th>\n",
              "      <td>288208000000</td>\n",
              "      <td>909307016</td>\n",
              "      <td>25486060891</td>\n",
              "      <td>27639684529</td>\n",
              "    </tr>\n",
              "    <tr>\n",
              "      <th>22</th>\n",
              "      <td>279296000000</td>\n",
              "      <td>927403860</td>\n",
              "      <td>27466578243</td>\n",
              "      <td>27419390836</td>\n",
              "    </tr>\n",
              "    <tr>\n",
              "      <th>23</th>\n",
              "      <td>327276000000</td>\n",
              "      <td>945601831</td>\n",
              "      <td>32361287610</td>\n",
              "      <td>33349576561</td>\n",
              "    </tr>\n",
              "    <tr>\n",
              "      <th>24</th>\n",
              "      <td>360282000000</td>\n",
              "      <td>963922588</td>\n",
              "      <td>39068859788</td>\n",
              "      <td>43318430946</td>\n",
              "    </tr>\n",
              "    <tr>\n",
              "      <th>25</th>\n",
              "      <td>392897000000</td>\n",
              "      <td>982365243</td>\n",
              "      <td>40803024157</td>\n",
              "      <td>45357287723</td>\n",
              "    </tr>\n",
              "    <tr>\n",
              "      <th>26</th>\n",
              "      <td>415868000000</td>\n",
              "      <td>1000900030</td>\n",
              "      <td>44459245983</td>\n",
              "      <td>49607490117</td>\n",
              "    </tr>\n",
              "    <tr>\n",
              "      <th>27</th>\n",
              "      <td>421351000000</td>\n",
              "      <td>1019483581</td>\n",
              "      <td>46426482685</td>\n",
              "      <td>53431584653</td>\n",
              "    </tr>\n",
              "    <tr>\n",
              "      <th>28</th>\n",
              "      <td>458820000000</td>\n",
              "      <td>1038058156</td>\n",
              "      <td>52544410650</td>\n",
              "      <td>61314619861</td>\n",
              "    </tr>\n",
              "    <tr>\n",
              "      <th>29</th>\n",
              "      <td>468395000000</td>\n",
              "      <td>1056575549</td>\n",
              "      <td>60878396866</td>\n",
              "      <td>65124164122</td>\n",
              "    </tr>\n",
              "    <tr>\n",
              "      <th>30</th>\n",
              "      <td>485441000000</td>\n",
              "      <td>1075000085</td>\n",
              "      <td>60963525504</td>\n",
              "      <td>65218394082</td>\n",
              "    </tr>\n",
              "    <tr>\n",
              "      <th>31</th>\n",
              "      <td>514938000000</td>\n",
              "      <td>1093317189</td>\n",
              "      <td>73452725999</td>\n",
              "      <td>78498577659</td>\n",
              "    </tr>\n",
              "    <tr>\n",
              "      <th>32</th>\n",
              "      <td>607699000000</td>\n",
              "      <td>1111523144</td>\n",
              "      <td>90838365704</td>\n",
              "      <td>95071650073</td>\n",
              "    </tr>\n",
              "    <tr>\n",
              "      <th>33</th>\n",
              "      <td>709149000000</td>\n",
              "      <td>1129623456</td>\n",
              "      <td>126648000000</td>\n",
              "      <td>139310000000</td>\n",
              "    </tr>\n",
              "    <tr>\n",
              "      <th>34</th>\n",
              "      <td>820382000000</td>\n",
              "      <td>1147609927</td>\n",
              "      <td>160838000000</td>\n",
              "      <td>183736000000</td>\n",
              "    </tr>\n",
              "    <tr>\n",
              "      <th>35</th>\n",
              "      <td>940260000000</td>\n",
              "      <td>1165486291</td>\n",
              "      <td>199974000000</td>\n",
              "      <td>229955000000</td>\n",
              "    </tr>\n",
              "    <tr>\n",
              "      <th>36</th>\n",
              "      <td>1216740000000</td>\n",
              "      <td>1183209472</td>\n",
              "      <td>253077000000</td>\n",
              "      <td>302804000000</td>\n",
              "    </tr>\n",
              "    <tr>\n",
              "      <th>37</th>\n",
              "      <td>1198900000000</td>\n",
              "      <td>1200669765</td>\n",
              "      <td>288902000000</td>\n",
              "      <td>350927000000</td>\n",
              "    </tr>\n",
              "    <tr>\n",
              "      <th>38</th>\n",
              "      <td>1341890000000</td>\n",
              "      <td>1217726215</td>\n",
              "      <td>273752000000</td>\n",
              "      <td>347178000000</td>\n",
              "    </tr>\n",
              "    <tr>\n",
              "      <th>39</th>\n",
              "      <td>1675620000000</td>\n",
              "      <td>1234281170</td>\n",
              "      <td>375353000000</td>\n",
              "      <td>449974000000</td>\n",
              "    </tr>\n",
              "    <tr>\n",
              "      <th>40</th>\n",
              "      <td>1823050000000</td>\n",
              "      <td>1250288729</td>\n",
              "      <td>447384000000</td>\n",
              "      <td>566667000000</td>\n",
              "    </tr>\n",
              "    <tr>\n",
              "      <th>41</th>\n",
              "      <td>1827640000000</td>\n",
              "      <td>1265782790</td>\n",
              "      <td>448401000000</td>\n",
              "      <td>571307000000</td>\n",
              "    </tr>\n",
              "    <tr>\n",
              "      <th>42</th>\n",
              "      <td>1856720000000</td>\n",
              "      <td>1280846129</td>\n",
              "      <td>472180000000</td>\n",
              "      <td>527555000000</td>\n",
              "    </tr>\n",
              "    <tr>\n",
              "      <th>43</th>\n",
              "      <td>2039130000000</td>\n",
              "      <td>1295604184</td>\n",
              "      <td>468346000000</td>\n",
              "      <td>529240000000</td>\n",
              "    </tr>\n",
              "  </tbody>\n",
              "</table>\n",
              "</div>"
            ],
            "text/plain": [
              "              GDP     TotlPop     ExportsGS     ImportsGS\n",
              "0     67350988021   567868018    2469898946    2695656848\n",
              "1     71463193830   581087256    2878172458    2650505782\n",
              "2     85515269586   594770134    3599135190    4039170800\n",
              "3     99525899116   608802600    4808415668    5992025678\n",
              "4     98472796457   623102897    5560820024    6545404119\n",
              "5    102717000000   637630087    6868196413    6280836401\n",
              "6    121487000000   652408776    7754744526    7611094891\n",
              "7    137300000000   667499806    8670273695    9045599669\n",
              "8    152992000000   682995354   10326383042   12498142737\n",
              "9    186325000000   698952844   11439539834   17225826069\n",
              "10   193491000000   715384993   11485654131   16584540955\n",
              "11   200715000000   732239504   12009388989   16343487428\n",
              "12   218262000000   749428958   12741342695   17140058766\n",
              "13   212158000000   766833410   13330753441   16391291180\n",
              "14   232512000000   784360008   12217464494   17776651903\n",
              "15   248986000000   801975244   12937864154   17486411450\n",
              "16   279034000000   819682102   15638662914   19477194741\n",
              "17   296589000000   837468930   17899797606   22111392790\n",
              "18   296042000000   855334678   20770717304   24133378145\n",
              "19   320979000000   873277798   22639774912   27132072318\n",
              "20   270105000000   891273209   22943398073   22941358805\n",
              "21   288208000000   909307016   25486060891   27639684529\n",
              "22   279296000000   927403860   27466578243   27419390836\n",
              "23   327276000000   945601831   32361287610   33349576561\n",
              "24   360282000000   963922588   39068859788   43318430946\n",
              "25   392897000000   982365243   40803024157   45357287723\n",
              "26   415868000000  1000900030   44459245983   49607490117\n",
              "27   421351000000  1019483581   46426482685   53431584653\n",
              "28   458820000000  1038058156   52544410650   61314619861\n",
              "29   468395000000  1056575549   60878396866   65124164122\n",
              "30   485441000000  1075000085   60963525504   65218394082\n",
              "31   514938000000  1093317189   73452725999   78498577659\n",
              "32   607699000000  1111523144   90838365704   95071650073\n",
              "33   709149000000  1129623456  126648000000  139310000000\n",
              "34   820382000000  1147609927  160838000000  183736000000\n",
              "35   940260000000  1165486291  199974000000  229955000000\n",
              "36  1216740000000  1183209472  253077000000  302804000000\n",
              "37  1198900000000  1200669765  288902000000  350927000000\n",
              "38  1341890000000  1217726215  273752000000  347178000000\n",
              "39  1675620000000  1234281170  375353000000  449974000000\n",
              "40  1823050000000  1250288729  447384000000  566667000000\n",
              "41  1827640000000  1265782790  448401000000  571307000000\n",
              "42  1856720000000  1280846129  472180000000  527555000000\n",
              "43  2039130000000  1295604184  468346000000  529240000000"
            ]
          },
          "metadata": {},
          "execution_count": 8
        }
      ]
    },
    {
      "cell_type": "code",
      "metadata": {
        "colab": {
          "base_uri": "https://localhost:8080/"
        },
        "id": "sbqsLv8Sjggk",
        "outputId": "5e873320-509a-49cc-e07a-60ce5a91e580"
      },
      "source": [
        "corr = eng_data.corr('pearson')   #to get the corelation between features and target variable\n",
        "corrs = [abs(corr[attr]['Enguse']) for attr in list(train_labels)]\n",
        "l = list(zip(corrs,list(train_labels)))\n",
        "l.sort(key = lambda x : x[0], reverse=True)\n",
        "corrs, labels = list(zip((*l)))\n",
        "index = np.arange(len(labels))\n",
        "plt.figure(figsize = (15,5))\n",
        "plt.bar(index, corrs, width =0.5)\n",
        "plt.xlabel('Attributes')\n",
        "plt.ylabel('Corelation with target variable')\n",
        "plt.xticks(index,labels)\n",
        "plt.show()"
      ],
      "execution_count": null,
      "outputs": [
        {
          "output_type": "display_data",
          "data": {
            "image/png": "[encoded data removed]",
            "text/plain": [
              "<Figure size 1080x360 with 1 Axes>"
            ]
          },
          "metadata": {
            "needs_background": "light"
          }
        }
      ]
    },
    {
      "cell_type": "code",
      "metadata": {
        "colab": {
          "base_uri": "https://localhost:8080/"
        },
        "id": "CZxEJ5Ygjiya",
        "outputId": "323a4888-735f-4ae7-e5bb-2d78854daceb"
      },
      "source": [
        "#Correlation with output variable\n",
        "corr = eng_data.corr()\n",
        "cor_target = abs(corr['Enguse'])\n",
        "#Selecting highly correlated features\n",
        "relevant_features = cor_target[cor_target>0]\n",
        "relevant_features"
      ],
      "execution_count": null,
      "outputs": [
        {
          "output_type": "execute_result",
          "data": {
            "text/plain": [
              "Enguse       1.000000\n",
              "GDP          0.964205\n",
              "TotlPop      0.956072\n",
              "ExportsGS    0.934222\n",
              "ImportsGS    0.926598\n",
              "Name: Enguse, dtype: float64"
            ]
          },
          "metadata": {},
          "execution_count": 10
        }
      ]
    },
    {
      "cell_type": "code",
      "metadata": {
        "colab": {
          "base_uri": "https://localhost:8080/"
        },
        "id": "4IkQ39_Bji7r",
        "outputId": "c2b790c7-89e0-492a-fb3d-02efcb3543f6"
      },
      "source": [
        "#heatmap\n",
        "\n",
        "#Using Pearson Correlation\n",
        "import seaborn as sns\n",
        "plt.figure(figsize=(12,10))\n",
        "cor = eng_data.corr()\n",
        "sns.heatmap(cor, annot=True, cmap=plt.cm.Reds)\n",
        "plt.show()"
      ],
      "execution_count": null,
      "outputs": [
        {
          "output_type": "display_data",
          "data": {
            "image/png": "[encoded data removed]",
            "text/plain": [
              "<Figure size 864x720 with 2 Axes>"
            ]
          },
          "metadata": {
            "needs_background": "light"
          }
        }
      ]
    },
    {
      "cell_type": "markdown",
      "metadata": {
        "id": "-ehDmEgYufxf"
      },
      "source": [
        "#**SVR (1,4)**"
      ]
    },
    {
      "cell_type": "markdown",
      "metadata": {
        "id": "0b8mXz_yu54a"
      },
      "source": [
        "##**Enguse v/s GDP**"
      ]
    },
    {
      "cell_type": "code",
      "metadata": {
        "id": "uF1XPDK-JB1b"
      },
      "source": [
        "X = eng_data.iloc[:, 1].values\n",
        "y = eng_data.iloc[:, 0].values\n",
        "y = np.array(y).reshape(-1,1)"
      ],
      "execution_count": null,
      "outputs": []
    },
    {
      "cell_type": "code",
      "metadata": {
        "colab": {
          "base_uri": "https://localhost:8080/"
        },
        "id": "uo8TCYC70ejd",
        "outputId": "c8a5d36c-d509-42ad-fc00-5580fc552faa"
      },
      "source": [
        "fig = plt.figure()\n",
        "ax = fig.add_axes([0,0,1,1])\n",
        "ax.scatter(X,y, color = 'red')\n",
        "plt.title('Relation between Energy used and GDP')\n",
        "plt.xlabel('GDP')\n",
        "plt.ylabel('Energy Used')\n",
        "plt.show()"
      ],
      "execution_count": null,
      "outputs": [
        {
          "output_type": "display_data",
          "data": {
            "image/png": "[encoded data removed]",
            "text/plain": [
              "<Figure size 432x288 with 1 Axes>"
            ]
          },
          "metadata": {
            "needs_background": "light"
          }
        }
      ]
    },
    {
      "cell_type": "code",
      "metadata": {
        "id": "cs_PH7kwJM5o"
      },
      "source": [
        "from sklearn.preprocessing import StandardScaler\n",
        "sc_X = StandardScaler()\n",
        "sc_y = StandardScaler()\n",
        "X = sc_X.fit_transform(X.reshape(-1,1))\n",
        "y = sc_y.fit_transform(y.reshape(-1,1))"
      ],
      "execution_count": null,
      "outputs": []
    },
    {
      "cell_type": "code",
      "metadata": {
        "id": "5LEjM_rsJdPh"
      },
      "source": [
        "from sklearn.model_selection import train_test_split\n",
        "X_train, X_test, y_train, y_test = train_test_split(X, y, test_size = 0.2)"
      ],
      "execution_count": null,
      "outputs": []
    },
    {
      "cell_type": "code",
      "metadata": {
        "colab": {
          "base_uri": "https://localhost:8080/"
        },
        "id": "AN4LpJdsJhf4",
        "outputId": "2f287d3e-2403-4858-f202-74442edaa5e9"
      },
      "source": [
        "from sklearn.svm import SVR\n",
        "regressor = SVR(kernel = 'rbf')\n",
        "regressor.fit(X_train.reshape(-1,1), y_train.reshape(-1,1))"
      ],
      "execution_count": null,
      "outputs": [
        {
          "output_type": "execute_result",
          "data": {
            "text/plain": [
              "SVR(C=1.0, cache_size=200, coef0=0.0, degree=3, epsilon=0.1, gamma='scale',\n",
              "    kernel='rbf', max_iter=-1, shrinking=True, tol=0.001, verbose=False)"
            ]
          },
          "metadata": {},
          "execution_count": 107
        }
      ]
    },
    {
      "cell_type": "code",
      "metadata": {
        "id": "K2q_VsuEJkz6"
      },
      "source": [
        "y_pred = regressor.predict(X_test)\n",
        "y_pred = sc_y.inverse_transform(y_pred)"
      ],
      "execution_count": null,
      "outputs": []
    },
    {
      "cell_type": "code",
      "metadata": {
        "colab": {
          "base_uri": "https://localhost:8080/"
        },
        "id": "3IaaHI-7JpGD",
        "outputId": "48c7a142-c79e-4bb1-a35a-b4a8446ef5e7"
      },
      "source": [
        "y_true = sc_y.inverse_transform(y_test.reshape(-1))\n",
        "\n",
        "df = pd.DataFrame({'Real Values':y_true, 'Predicted Values':y_pred})\n",
        "df"
      ],
      "execution_count": null,
      "outputs": [
        {
          "output_type": "execute_result",
          "data": {
            "text/html": [
              "<div>\n",
              "<style scoped>\n",
              "    .dataframe tbody tr th:only-of-type {\n",
              "        vertical-align: middle;\n",
              "    }\n",
              "\n",
              "    .dataframe tbody tr th {\n",
              "        vertical-align: top;\n",
              "    }\n",
              "\n",
              "    .dataframe thead th {\n",
              "        text-align: right;\n",
              "    }\n",
              "</style>\n",
              "<table border=\"1\" class=\"dataframe\">\n",
              "  <thead>\n",
              "    <tr style=\"text-align: right;\">\n",
              "      <th></th>\n",
              "      <th>Real Values</th>\n",
              "      <th>Predicted Values</th>\n",
              "    </tr>\n",
              "  </thead>\n",
              "  <tbody>\n",
              "    <tr>\n",
              "      <th>0</th>\n",
              "      <td>364.514502</td>\n",
              "      <td>336.547473</td>\n",
              "    </tr>\n",
              "    <tr>\n",
              "      <th>1</th>\n",
              "      <td>544.626598</td>\n",
              "      <td>508.931910</td>\n",
              "    </tr>\n",
              "    <tr>\n",
              "      <th>2</th>\n",
              "      <td>334.256828</td>\n",
              "      <td>343.086533</td>\n",
              "    </tr>\n",
              "    <tr>\n",
              "      <th>3</th>\n",
              "      <td>449.765856</td>\n",
              "      <td>471.648444</td>\n",
              "    </tr>\n",
              "    <tr>\n",
              "      <th>4</th>\n",
              "      <td>399.498831</td>\n",
              "      <td>390.534236</td>\n",
              "    </tr>\n",
              "    <tr>\n",
              "      <th>5</th>\n",
              "      <td>424.294346</td>\n",
              "      <td>445.386353</td>\n",
              "    </tr>\n",
              "    <tr>\n",
              "      <th>6</th>\n",
              "      <td>272.713549</td>\n",
              "      <td>281.634160</td>\n",
              "    </tr>\n",
              "    <tr>\n",
              "      <th>7</th>\n",
              "      <td>281.947667</td>\n",
              "      <td>286.466240</td>\n",
              "    </tr>\n",
              "    <tr>\n",
              "      <th>8</th>\n",
              "      <td>306.066708</td>\n",
              "      <td>312.579151</td>\n",
              "    </tr>\n",
              "  </tbody>\n",
              "</table>\n",
              "</div>"
            ],
            "text/plain": [
              "   Real Values  Predicted Values\n",
              "0   364.514502        336.547473\n",
              "1   544.626598        508.931910\n",
              "2   334.256828        343.086533\n",
              "3   449.765856        471.648444\n",
              "4   399.498831        390.534236\n",
              "5   424.294346        445.386353\n",
              "6   272.713549        281.634160\n",
              "7   281.947667        286.466240\n",
              "8   306.066708        312.579151"
            ]
          },
          "metadata": {},
          "execution_count": 109
        }
      ]
    },
    {
      "cell_type": "code",
      "metadata": {
        "colab": {
          "base_uri": "https://localhost:8080/"
        },
        "id": "qpdeg0vdJsH2",
        "outputId": "a0e242d6-6b37-4728-9bcb-befb55e51507"
      },
      "source": [
        "X_grid = np.arange(min(X), max(X), 0.1)\n",
        "X_grid = X_grid.reshape((len(X_grid), 1))\n",
        "plt.scatter(sc_X.inverse_transform(X_test), sc_y.inverse_transform(y_test.reshape(-1)), color = 'red')\n",
        "plt.scatter(sc_X.inverse_transform(X_test), y_pred, color = 'green')\n",
        "plt.title('SVR Regression')\n",
        "plt.xlabel('GDP')\n",
        "plt.ylabel('Energy Used')\n",
        "plt.show()"
      ],
      "execution_count": null,
      "outputs": [
        {
          "output_type": "display_data",
          "data": {
            "image/png": "[encoded data removed]",
            "text/plain": [
              "<Figure size 432x288 with 1 Axes>"
            ]
          },
          "metadata": {
            "needs_background": "light"
          }
        }
      ]
    },
    {
      "cell_type": "code",
      "metadata": {
        "colab": {
          "base_uri": "https://localhost:8080/"
        },
        "id": "u5uOm7hzhLgf",
        "outputId": "c7703918-23da-4a67-f5b8-b5db5b1ac26d"
      },
      "source": [
        "import sklearn.metrics as metrics\n",
        "\n",
        "mae = metrics.mean_absolute_error(y_true, y_pred)\n",
        "mse = metrics.mean_squared_error(y_true, y_pred)\n",
        "rmse = np.sqrt(mse) # or mse**(0.5)  \n",
        "r2 = metrics.r2_score(y_true, y_pred)\n",
        "\n",
        "print(\"Results:\")\n",
        "print(\"MAE:\",mae)\n",
        "print(\"MSE:\", mse)\n",
        "print(\"RMSE:\", rmse)\n",
        "print(\"R-Squared:\", r2)"
      ],
      "execution_count": null,
      "outputs": [
        {
          "output_type": "stream",
          "text": [
            "Results:\n",
            "MAE: 16.04247112184206\n",
            "MSE: 364.5244745811378\n",
            "RMSE: 19.092524049510526\n",
            "R-Squared: 0.9479543574201348\n"
          ],
          "name": "stdout"
        }
      ]
    },
    {
      "cell_type": "markdown",
      "metadata": {
        "id": "RJhV24KHvHrD"
      },
      "source": [
        "##**Enguse v/s TotPop**"
      ]
    },
    {
      "cell_type": "code",
      "metadata": {
        "id": "NkLTdksTh353"
      },
      "source": [
        "X = eng_data.iloc[:, 2].values\n",
        "y = eng_data.iloc[:, 0].values\n",
        "y = np.array(y).reshape(-1,1)"
      ],
      "execution_count": null,
      "outputs": []
    },
    {
      "cell_type": "code",
      "metadata": {
        "colab": {
          "base_uri": "https://localhost:8080/"
        },
        "id": "spJWnrWEh4CE",
        "outputId": "49766304-309a-479e-b1e1-8459fa455538"
      },
      "source": [
        "fig = plt.figure()\n",
        "ax = fig.add_axes([0,0,1,1])\n",
        "ax.scatter(X,y, color = 'red')\n",
        "plt.title('Relation between Energy used and Total Population')\n",
        "plt.xlabel('Total Population')\n",
        "plt.ylabel('Energy Used')\n",
        "plt.show()"
      ],
      "execution_count": null,
      "outputs": [
        {
          "output_type": "display_data",
          "data": {
            "image/png": "[encoded data removed]",
            "text/plain": [
              "<Figure size 432x288 with 1 Axes>"
            ]
          },
          "metadata": {
            "needs_background": "light"
          }
        }
      ]
    },
    {
      "cell_type": "code",
      "metadata": {
        "id": "4P5O2T4eh4Hk"
      },
      "source": [
        "from sklearn.preprocessing import StandardScaler\n",
        "sc_X = StandardScaler()\n",
        "sc_y = StandardScaler()\n",
        "X = sc_X.fit_transform(X.reshape(-1,1))\n",
        "y = sc_y.fit_transform(y.reshape(-1,1))"
      ],
      "execution_count": null,
      "outputs": []
    },
    {
      "cell_type": "code",
      "metadata": {
        "id": "RFAcSlSYh4LQ"
      },
      "source": [
        "from sklearn.model_selection import train_test_split\n",
        "X_train, X_test, y_train, y_test = train_test_split(X, y, test_size = 0.2)"
      ],
      "execution_count": null,
      "outputs": []
    },
    {
      "cell_type": "code",
      "metadata": {
        "colab": {
          "base_uri": "https://localhost:8080/"
        },
        "id": "W0miPw9Ah4O9",
        "outputId": "7a6c8d08-b42b-4fd7-b2f4-870edfd5df72"
      },
      "source": [
        "from sklearn.svm import SVR\n",
        "regressor = SVR(kernel = 'rbf')\n",
        "regressor.fit(X_train.reshape(-1,1), y_train.reshape(-1,1))"
      ],
      "execution_count": null,
      "outputs": [
        {
          "output_type": "execute_result",
          "data": {
            "text/plain": [
              "SVR(C=1.0, cache_size=200, coef0=0.0, degree=3, epsilon=0.1, gamma='scale',\n",
              "    kernel='rbf', max_iter=-1, shrinking=True, tol=0.001, verbose=False)"
            ]
          },
          "metadata": {},
          "execution_count": 116
        }
      ]
    },
    {
      "cell_type": "code",
      "metadata": {
        "id": "iw6AKRM0h4R8"
      },
      "source": [
        "y_pred = regressor.predict(X_test)\n",
        "y_pred = sc_y.inverse_transform(y_pred)"
      ],
      "execution_count": null,
      "outputs": []
    },
    {
      "cell_type": "code",
      "metadata": {
        "colab": {
          "base_uri": "https://localhost:8080/"
        },
        "id": "5JVmWAVqh4UU",
        "outputId": "2fc73336-234b-484a-c082-81bcbee4b04e"
      },
      "source": [
        "y_true = sc_y.inverse_transform(y_test.reshape(-1))\n",
        "\n",
        "df = pd.DataFrame({'Real Values':y_true, 'Predicted Values':y_pred})\n",
        "df"
      ],
      "execution_count": null,
      "outputs": [
        {
          "output_type": "execute_result",
          "data": {
            "text/html": [
              "<div>\n",
              "<style scoped>\n",
              "    .dataframe tbody tr th:only-of-type {\n",
              "        vertical-align: middle;\n",
              "    }\n",
              "\n",
              "    .dataframe tbody tr th {\n",
              "        vertical-align: top;\n",
              "    }\n",
              "\n",
              "    .dataframe thead th {\n",
              "        text-align: right;\n",
              "    }\n",
              "</style>\n",
              "<table border=\"1\" class=\"dataframe\">\n",
              "  <thead>\n",
              "    <tr style=\"text-align: right;\">\n",
              "      <th></th>\n",
              "      <th>Real Values</th>\n",
              "      <th>Predicted Values</th>\n",
              "    </tr>\n",
              "  </thead>\n",
              "  <tbody>\n",
              "    <tr>\n",
              "      <th>0</th>\n",
              "      <td>544.626598</td>\n",
              "      <td>534.167415</td>\n",
              "    </tr>\n",
              "    <tr>\n",
              "      <th>1</th>\n",
              "      <td>314.898047</td>\n",
              "      <td>321.490198</td>\n",
              "    </tr>\n",
              "    <tr>\n",
              "      <th>2</th>\n",
              "      <td>350.075734</td>\n",
              "      <td>358.278168</td>\n",
              "    </tr>\n",
              "    <tr>\n",
              "      <th>3</th>\n",
              "      <td>421.270490</td>\n",
              "      <td>423.034965</td>\n",
              "    </tr>\n",
              "    <tr>\n",
              "      <th>4</th>\n",
              "      <td>399.498831</td>\n",
              "      <td>394.544369</td>\n",
              "    </tr>\n",
              "    <tr>\n",
              "      <th>5</th>\n",
              "      <td>323.883122</td>\n",
              "      <td>336.830822</td>\n",
              "    </tr>\n",
              "    <tr>\n",
              "      <th>6</th>\n",
              "      <td>363.078346</td>\n",
              "      <td>369.951699</td>\n",
              "    </tr>\n",
              "    <tr>\n",
              "      <th>7</th>\n",
              "      <td>385.091857</td>\n",
              "      <td>382.986365</td>\n",
              "    </tr>\n",
              "    <tr>\n",
              "      <th>8</th>\n",
              "      <td>281.947667</td>\n",
              "      <td>278.625642</td>\n",
              "    </tr>\n",
              "  </tbody>\n",
              "</table>\n",
              "</div>"
            ],
            "text/plain": [
              "   Real Values  Predicted Values\n",
              "0   544.626598        534.167415\n",
              "1   314.898047        321.490198\n",
              "2   350.075734        358.278168\n",
              "3   421.270490        423.034965\n",
              "4   399.498831        394.544369\n",
              "5   323.883122        336.830822\n",
              "6   363.078346        369.951699\n",
              "7   385.091857        382.986365\n",
              "8   281.947667        278.625642"
            ]
          },
          "metadata": {},
          "execution_count": 118
        }
      ]
    },
    {
      "cell_type": "code",
      "metadata": {
        "colab": {
          "base_uri": "https://localhost:8080/"
        },
        "id": "0tnXNgWah4Wx",
        "outputId": "cd84b426-df28-408e-da69-125f947d22f5"
      },
      "source": [
        "X_grid = np.arange(min(X), max(X), 0.1)\n",
        "X_grid = X_grid.reshape((len(X_grid), 1))\n",
        "plt.scatter(sc_X.inverse_transform(X_test), sc_y.inverse_transform(y_test.reshape(-1)), color = 'red')\n",
        "plt.scatter(sc_X.inverse_transform(X_test), y_pred, color = 'green')\n",
        "plt.title('SVR Regression')\n",
        "plt.xlabel('Total Population')\n",
        "plt.ylabel('Energy Used')\n",
        "plt.show()"
      ],
      "execution_count": null,
      "outputs": [
        {
          "output_type": "display_data",
          "data": {
            "image/png": "[encoded data removed]",
            "text/plain": [
              "<Figure size 432x288 with 1 Axes>"
            ]
          },
          "metadata": {
            "needs_background": "light"
          }
        }
      ]
    },
    {
      "cell_type": "code",
      "metadata": {
        "colab": {
          "base_uri": "https://localhost:8080/"
        },
        "id": "IChAXWXEh46O",
        "outputId": "ea49cc3c-258a-4c1e-df48-0dc8651fdafd"
      },
      "source": [
        "import sklearn.metrics as metrics\n",
        "\n",
        "mae = metrics.mean_absolute_error(y_true, y_pred)\n",
        "mse = metrics.mean_squared_error(y_true, y_pred)\n",
        "rmse = np.sqrt(mse) # or mse**(0.5)  \n",
        "r2 = metrics.r2_score(y_true, y_pred)\n",
        "\n",
        "print(\"Results:\")\n",
        "print(\"MAE:\",mae)\n",
        "print(\"MSE:\", mse)\n",
        "print(\"RMSE:\", rmse)\n",
        "print(\"R-Squared:\", r2)"
      ],
      "execution_count": null,
      "outputs": [
        {
          "output_type": "stream",
          "text": [
            "Results:\n",
            "MAE: 6.35791943340115\n",
            "MSE: 53.12731519907433\n",
            "RMSE: 7.288848688172525\n",
            "R-Squared: 0.9898813003982188\n"
          ],
          "name": "stdout"
        }
      ]
    },
    {
      "cell_type": "markdown",
      "metadata": {
        "id": "xhK_xAhkvTYv"
      },
      "source": [
        "##**Enguse v/s ExportGS**"
      ]
    },
    {
      "cell_type": "code",
      "metadata": {
        "id": "LjZynelxiQt6"
      },
      "source": [
        "X = eng_data.iloc[:, 3].values\n",
        "y = eng_data.iloc[:, 0].values\n",
        "y = np.array(y).reshape(-1,1)"
      ],
      "execution_count": null,
      "outputs": []
    },
    {
      "cell_type": "code",
      "metadata": {
        "colab": {
          "base_uri": "https://localhost:8080/"
        },
        "id": "Y5fg_gqViQ-I",
        "outputId": "679160cf-2dcb-478e-ff66-91d3c6c3da64"
      },
      "source": [
        "fig = plt.figure()\n",
        "ax = fig.add_axes([0,0,1,1])\n",
        "ax.scatter(X,y, color = 'red')\n",
        "plt.title('Relation between Energy used and Export(Goods and Services)')\n",
        "plt.xlabel('Export (Goods and Services)')\n",
        "plt.ylabel('Energy Used')\n",
        "plt.show()"
      ],
      "execution_count": null,
      "outputs": [
        {
          "output_type": "display_data",
          "data": {
            "image/png": "[encoded data removed]",
            "text/plain": [
              "<Figure size 432x288 with 1 Axes>"
            ]
          },
          "metadata": {
            "needs_background": "light"
          }
        }
      ]
    },
    {
      "cell_type": "code",
      "metadata": {
        "id": "nySFt2LjiRGs"
      },
      "source": [
        "from sklearn.preprocessing import StandardScaler\n",
        "sc_X = StandardScaler()\n",
        "sc_y = StandardScaler()\n",
        "X = sc_X.fit_transform(X.reshape(-1,1))\n",
        "y = sc_y.fit_transform(y.reshape(-1,1))"
      ],
      "execution_count": null,
      "outputs": []
    },
    {
      "cell_type": "code",
      "metadata": {
        "id": "Efcja-NNiROF"
      },
      "source": [
        "from sklearn.model_selection import train_test_split\n",
        "X_train, X_test, y_train, y_test = train_test_split(X, y, test_size = 0.2)"
      ],
      "execution_count": null,
      "outputs": []
    },
    {
      "cell_type": "code",
      "metadata": {
        "colab": {
          "base_uri": "https://localhost:8080/"
        },
        "id": "WS409hvviRTB",
        "outputId": "98866d4c-c4f5-419c-a659-cf6d4a86c700"
      },
      "source": [
        "from sklearn.svm import SVR\n",
        "regressor = SVR(kernel = 'rbf')\n",
        "regressor.fit(X_train.reshape(-1,1), y_train.reshape(-1,1))"
      ],
      "execution_count": null,
      "outputs": [
        {
          "output_type": "execute_result",
          "data": {
            "text/plain": [
              "SVR(C=1.0, cache_size=200, coef0=0.0, degree=3, epsilon=0.1, gamma='scale',\n",
              "    kernel='rbf', max_iter=-1, shrinking=True, tol=0.001, verbose=False)"
            ]
          },
          "metadata": {},
          "execution_count": 125
        }
      ]
    },
    {
      "cell_type": "code",
      "metadata": {
        "id": "TPLQ5XUYiRZB"
      },
      "source": [
        "y_pred = regressor.predict(X_test)\n",
        "y_pred = sc_y.inverse_transform(y_pred)"
      ],
      "execution_count": null,
      "outputs": []
    },
    {
      "cell_type": "code",
      "metadata": {
        "colab": {
          "base_uri": "https://localhost:8080/"
        },
        "id": "5txFmZDciRen",
        "outputId": "1c67b4f0-7808-4f86-81d2-b849e3ca6277"
      },
      "source": [
        "y_true = sc_y.inverse_transform(y_test.reshape(-1))\n",
        "\n",
        "df = pd.DataFrame({'Real Values':y_true, 'Predicted Values':y_pred})\n",
        "df"
      ],
      "execution_count": null,
      "outputs": [
        {
          "output_type": "execute_result",
          "data": {
            "text/html": [
              "<div>\n",
              "<style scoped>\n",
              "    .dataframe tbody tr th:only-of-type {\n",
              "        vertical-align: middle;\n",
              "    }\n",
              "\n",
              "    .dataframe tbody tr th {\n",
              "        vertical-align: top;\n",
              "    }\n",
              "\n",
              "    .dataframe thead th {\n",
              "        text-align: right;\n",
              "    }\n",
              "</style>\n",
              "<table border=\"1\" class=\"dataframe\">\n",
              "  <thead>\n",
              "    <tr style=\"text-align: right;\">\n",
              "      <th></th>\n",
              "      <th>Real Values</th>\n",
              "      <th>Predicted Values</th>\n",
              "    </tr>\n",
              "  </thead>\n",
              "  <tbody>\n",
              "    <tr>\n",
              "      <th>0</th>\n",
              "      <td>306.066708</td>\n",
              "      <td>320.695512</td>\n",
              "    </tr>\n",
              "    <tr>\n",
              "      <th>1</th>\n",
              "      <td>501.559635</td>\n",
              "      <td>517.140517</td>\n",
              "    </tr>\n",
              "    <tr>\n",
              "      <th>2</th>\n",
              "      <td>399.498831</td>\n",
              "      <td>373.260627</td>\n",
              "    </tr>\n",
              "    <tr>\n",
              "      <th>3</th>\n",
              "      <td>416.014444</td>\n",
              "      <td>394.653289</td>\n",
              "    </tr>\n",
              "    <tr>\n",
              "      <th>4</th>\n",
              "      <td>323.883122</td>\n",
              "      <td>324.303263</td>\n",
              "    </tr>\n",
              "    <tr>\n",
              "      <th>5</th>\n",
              "      <td>350.075734</td>\n",
              "      <td>335.420466</td>\n",
              "    </tr>\n",
              "    <tr>\n",
              "      <th>6</th>\n",
              "      <td>267.308741</td>\n",
              "      <td>304.916935</td>\n",
              "    </tr>\n",
              "    <tr>\n",
              "      <th>7</th>\n",
              "      <td>267.347563</td>\n",
              "      <td>304.323794</td>\n",
              "    </tr>\n",
              "    <tr>\n",
              "      <th>8</th>\n",
              "      <td>300.702227</td>\n",
              "      <td>319.780005</td>\n",
              "    </tr>\n",
              "  </tbody>\n",
              "</table>\n",
              "</div>"
            ],
            "text/plain": [
              "   Real Values  Predicted Values\n",
              "0   306.066708        320.695512\n",
              "1   501.559635        517.140517\n",
              "2   399.498831        373.260627\n",
              "3   416.014444        394.653289\n",
              "4   323.883122        324.303263\n",
              "5   350.075734        335.420466\n",
              "6   267.308741        304.916935\n",
              "7   267.347563        304.323794\n",
              "8   300.702227        319.780005"
            ]
          },
          "metadata": {},
          "execution_count": 127
        }
      ]
    },
    {
      "cell_type": "code",
      "metadata": {
        "colab": {
          "base_uri": "https://localhost:8080/"
        },
        "id": "oXG1tCi8iRlG",
        "outputId": "5aaa71c1-5467-41eb-f3d8-63a4e795d00c"
      },
      "source": [
        "X_grid = np.arange(min(X), max(X), 0.1)\n",
        "X_grid = X_grid.reshape((len(X_grid), 1))\n",
        "plt.scatter(sc_X.inverse_transform(X_test), sc_y.inverse_transform(y_test.reshape(-1)), color = 'red')\n",
        "plt.scatter(sc_X.inverse_transform(X_test), y_pred, color = 'green')\n",
        "plt.title('SVR Regression')\n",
        "plt.xlabel('Export (Goods and Services)')\n",
        "plt.ylabel('Energy Used')\n",
        "plt.show()"
      ],
      "execution_count": null,
      "outputs": [
        {
          "output_type": "display_data",
          "data": {
            "image/png": "[encoded data removed]",
            "text/plain": [
              "<Figure size 432x288 with 1 Axes>"
            ]
          },
          "metadata": {
            "needs_background": "light"
          }
        }
      ]
    },
    {
      "cell_type": "code",
      "metadata": {
        "colab": {
          "base_uri": "https://localhost:8080/"
        },
        "id": "_tDZ71noiRov",
        "outputId": "4ec6d597-2ebd-4845-b7f7-f7c3a96be6d9"
      },
      "source": [
        "import sklearn.metrics as metrics\n",
        "\n",
        "mae = metrics.mean_absolute_error(y_true, y_pred)\n",
        "mse = metrics.mean_squared_error(y_true, y_pred)\n",
        "rmse = np.sqrt(mse) # or mse**(0.5)  \n",
        "r2 = metrics.r2_score(y_true, y_pred)\n",
        "\n",
        "print(\"Results of sklearn.metrics:\")\n",
        "print(\"MAE:\",mae)\n",
        "print(\"MSE:\", mse)\n",
        "print(\"RMSE:\", rmse)\n",
        "print(\"R-Squared:\", r2)"
      ],
      "execution_count": null,
      "outputs": [
        {
          "output_type": "stream",
          "text": [
            "Results of sklearn.metrics:\n",
            "MAE: 20.727406230320305\n",
            "MSE: 551.3378824238113\n",
            "RMSE: 23.480585223196872\n",
            "R-Squared: 0.8975968490830054\n"
          ],
          "name": "stdout"
        }
      ]
    },
    {
      "cell_type": "markdown",
      "metadata": {
        "id": "bzhty65vvclG"
      },
      "source": [
        "##**Enguse v/s ImportGS**"
      ]
    },
    {
      "cell_type": "code",
      "metadata": {
        "id": "FW2LvCqwJ9rq"
      },
      "source": [
        "X = eng_data.iloc[:, 4].values\n",
        "y = eng_data.iloc[:, 0].values\n",
        "y = np.array(y).reshape(-1,1)"
      ],
      "execution_count": null,
      "outputs": []
    },
    {
      "cell_type": "code",
      "metadata": {
        "colab": {
          "base_uri": "https://localhost:8080/"
        },
        "id": "THN3_btTipUc",
        "outputId": "0ccbdd22-a231-45b5-b80d-11bf730dedb4"
      },
      "source": [
        "fig = plt.figure()\n",
        "ax = fig.add_axes([0,0,1,1])\n",
        "ax.scatter(X,y, color = 'red')\n",
        "plt.title('Relation between Energy used and Import(Goods and Services)')\n",
        "plt.xlabel('Import (Goods and Services)')\n",
        "plt.ylabel('Energy Used')\n",
        "plt.show()"
      ],
      "execution_count": null,
      "outputs": [
        {
          "output_type": "display_data",
          "data": {
            "image/png": "[encoded data removed]",
            "text/plain": [
              "<Figure size 432x288 with 1 Axes>"
            ]
          },
          "metadata": {
            "needs_background": "light"
          }
        }
      ]
    },
    {
      "cell_type": "code",
      "metadata": {
        "id": "KeUh2GJGipeJ"
      },
      "source": [
        "from sklearn.preprocessing import StandardScaler\n",
        "sc_X = StandardScaler()\n",
        "sc_y = StandardScaler()\n",
        "X = sc_X.fit_transform(X.reshape(-1,1))\n",
        "y = sc_y.fit_transform(y.reshape(-1,1))"
      ],
      "execution_count": null,
      "outputs": []
    },
    {
      "cell_type": "code",
      "metadata": {
        "id": "sgb29hrHipnI"
      },
      "source": [
        "from sklearn.model_selection import train_test_split\n",
        "X_train, X_test, y_train, y_test = train_test_split(X, y, test_size = 0.2)"
      ],
      "execution_count": null,
      "outputs": []
    },
    {
      "cell_type": "code",
      "metadata": {
        "colab": {
          "base_uri": "https://localhost:8080/"
        },
        "id": "yNsx7MO9ipru",
        "outputId": "a38282fe-9156-4b0b-e19f-3b719c2e65f9"
      },
      "source": [
        "from sklearn.svm import SVR\n",
        "regressor = SVR(kernel = 'rbf')\n",
        "regressor.fit(X_train.reshape(-1,1), y_train.reshape(-1,1))"
      ],
      "execution_count": null,
      "outputs": [
        {
          "output_type": "execute_result",
          "data": {
            "text/plain": [
              "SVR(C=1.0, cache_size=200, coef0=0.0, degree=3, epsilon=0.1, gamma='scale',\n",
              "    kernel='rbf', max_iter=-1, shrinking=True, tol=0.001, verbose=False)"
            ]
          },
          "metadata": {},
          "execution_count": 134
        }
      ]
    },
    {
      "cell_type": "code",
      "metadata": {
        "id": "5-akWV-VipvD"
      },
      "source": [
        "y_pred = regressor.predict(X_test)\n",
        "y_pred = sc_y.inverse_transform(y_pred)"
      ],
      "execution_count": null,
      "outputs": []
    },
    {
      "cell_type": "code",
      "metadata": {
        "colab": {
          "base_uri": "https://localhost:8080/"
        },
        "id": "MjSTY3awipyX",
        "outputId": "947e3da3-d9b0-4c51-aded-3b398e2eed67"
      },
      "source": [
        "y_true = sc_y.inverse_transform(y_test.reshape(-1))\n",
        "\n",
        "df = pd.DataFrame({'Real Values':y_true, 'Predicted Values':y_pred})\n",
        "df"
      ],
      "execution_count": null,
      "outputs": [
        {
          "output_type": "execute_result",
          "data": {
            "text/html": [
              "<div>\n",
              "<style scoped>\n",
              "    .dataframe tbody tr th:only-of-type {\n",
              "        vertical-align: middle;\n",
              "    }\n",
              "\n",
              "    .dataframe tbody tr th {\n",
              "        vertical-align: top;\n",
              "    }\n",
              "\n",
              "    .dataframe thead th {\n",
              "        text-align: right;\n",
              "    }\n",
              "</style>\n",
              "<table border=\"1\" class=\"dataframe\">\n",
              "  <thead>\n",
              "    <tr style=\"text-align: right;\">\n",
              "      <th></th>\n",
              "      <th>Real Values</th>\n",
              "      <th>Predicted Values</th>\n",
              "    </tr>\n",
              "  </thead>\n",
              "  <tbody>\n",
              "    <tr>\n",
              "      <th>0</th>\n",
              "      <td>272.713549</td>\n",
              "      <td>322.396365</td>\n",
              "    </tr>\n",
              "    <tr>\n",
              "      <th>1</th>\n",
              "      <td>286.163830</td>\n",
              "      <td>337.666279</td>\n",
              "    </tr>\n",
              "    <tr>\n",
              "      <th>2</th>\n",
              "      <td>318.867323</td>\n",
              "      <td>338.029661</td>\n",
              "    </tr>\n",
              "    <tr>\n",
              "      <th>3</th>\n",
              "      <td>306.066708</td>\n",
              "      <td>336.504856</td>\n",
              "    </tr>\n",
              "    <tr>\n",
              "      <th>4</th>\n",
              "      <td>439.703008</td>\n",
              "      <td>468.365204</td>\n",
              "    </tr>\n",
              "    <tr>\n",
              "      <th>5</th>\n",
              "      <td>314.898047</td>\n",
              "      <td>338.434793</td>\n",
              "    </tr>\n",
              "    <tr>\n",
              "      <th>6</th>\n",
              "      <td>285.537777</td>\n",
              "      <td>331.138176</td>\n",
              "    </tr>\n",
              "    <tr>\n",
              "      <th>7</th>\n",
              "      <td>561.653403</td>\n",
              "      <td>575.516256</td>\n",
              "    </tr>\n",
              "    <tr>\n",
              "      <th>8</th>\n",
              "      <td>267.347563</td>\n",
              "      <td>318.097223</td>\n",
              "    </tr>\n",
              "  </tbody>\n",
              "</table>\n",
              "</div>"
            ],
            "text/plain": [
              "   Real Values  Predicted Values\n",
              "0   272.713549        322.396365\n",
              "1   286.163830        337.666279\n",
              "2   318.867323        338.029661\n",
              "3   306.066708        336.504856\n",
              "4   439.703008        468.365204\n",
              "5   314.898047        338.434793\n",
              "6   285.537777        331.138176\n",
              "7   561.653403        575.516256\n",
              "8   267.347563        318.097223"
            ]
          },
          "metadata": {},
          "execution_count": 136
        }
      ]
    },
    {
      "cell_type": "code",
      "metadata": {
        "colab": {
          "base_uri": "https://localhost:8080/"
        },
        "id": "MrOVHCymip-d",
        "outputId": "97d70732-0012-4d17-ff3a-788d0e256548"
      },
      "source": [
        "X_grid = np.arange(min(X), max(X), 0.1)\n",
        "X_grid = X_grid.reshape((len(X_grid), 1))\n",
        "plt.scatter(sc_X.inverse_transform(X_test), sc_y.inverse_transform(y_test.reshape(-1)), color = 'red')\n",
        "plt.scatter(sc_X.inverse_transform(X_test), y_pred, color = 'green')\n",
        "plt.title('SVR Regression')\n",
        "plt.xlabel('Import(Goods and Services)')\n",
        "plt.ylabel('Energy Used')\n",
        "plt.show()"
      ],
      "execution_count": null,
      "outputs": [
        {
          "output_type": "display_data",
          "data": {
            "image/png": "[encoded data removed]",
            "text/plain": [
              "<Figure size 432x288 with 1 Axes>"
            ]
          },
          "metadata": {
            "needs_background": "light"
          }
        }
      ]
    },
    {
      "cell_type": "code",
      "metadata": {
        "colab": {
          "base_uri": "https://localhost:8080/"
        },
        "id": "-WG6TQUliqGq",
        "outputId": "0de0d724-efa6-40a3-99d9-3ae14ce37481"
      },
      "source": [
        "import sklearn.metrics as metrics\n",
        "\n",
        "mae = metrics.mean_absolute_error(y_true, y_pred)\n",
        "mse = metrics.mean_squared_error(y_true, y_pred)\n",
        "rmse = np.sqrt(mse) # or mse**(0.5)  \n",
        "r2 = metrics.r2_score(y_true, y_pred)\n",
        "\n",
        "print(\"Results:\")\n",
        "print(\"MAE:\",mae)\n",
        "print(\"MSE:\", mse)\n",
        "print(\"RMSE:\", rmse)\n",
        "print(\"R-Squared:\", r2)"
      ],
      "execution_count": null,
      "outputs": [
        {
          "output_type": "stream",
          "text": [
            "Results:\n",
            "MAE: 34.7997336720349\n",
            "MSE: 1404.129257901355\n",
            "RMSE: 37.47171276978616\n",
            "R-Squared: 0.8358039654781408\n"
          ],
          "name": "stdout"
        }
      ]
    },
    {
      "cell_type": "markdown",
      "metadata": {
        "id": "oCGV4sZLlLQl"
      },
      "source": [
        "#**SVR (2,6)**"
      ]
    },
    {
      "cell_type": "markdown",
      "metadata": {
        "id": "fBA8-1aLlWiJ"
      },
      "source": [
        "##**Enguse v/s (GDP and TotPop)**"
      ]
    },
    {
      "cell_type": "code",
      "metadata": {
        "id": "dZ0hCaKI6nxb"
      },
      "source": [
        "X = eng_data.iloc[:, 1:3].values\n",
        "y = eng_data.iloc[:, 0].values\n",
        "y = np.array(y).reshape(-1,1)\n",
        "X"
      ],
      "execution_count": null,
      "outputs": []
    },
    {
      "cell_type": "code",
      "metadata": {
        "colab": {
          "base_uri": "https://localhost:8080/",
          "height": 371
        },
        "id": "5hdkB8lX6oba",
        "outputId": "1e89259e-09f8-4a96-d368-72ac2f175d6a"
      },
      "source": [
        "fig = plt.figure()\n",
        "ax = fig.add_axes([0,0,1,1])\n",
        "ax.scatter(X[:,0],y, color = 'red')\n",
        "ax.scatter(X[:,1],y, color = 'blue')\n",
        "plt.title('Relation between Energy used and GDP')\n",
        "plt.xlabel('GDP and Total Population')\n",
        "plt.ylabel('Energy Used')\n",
        "plt.show()"
      ],
      "execution_count": null,
      "outputs": [
        {
          "output_type": "display_data",
          "data": {
            "image/png": "[encoded data removed]",
            "text/plain": [
              "<Figure size 432x288 with 1 Axes>"
            ]
          },
          "metadata": {
            "needs_background": "light"
          }
        }
      ]
    },
    {
      "cell_type": "code",
      "metadata": {
        "id": "lcjR0U9M6oeK"
      },
      "source": [
        ""
      ],
      "execution_count": null,
      "outputs": []
    },
    {
      "cell_type": "code",
      "metadata": {
        "id": "AufZhVIa6ohC"
      },
      "source": [
        ""
      ],
      "execution_count": null,
      "outputs": []
    },
    {
      "cell_type": "markdown",
      "metadata": {
        "id": "PQNIeg2flWyh"
      },
      "source": [
        "##**Enguse v/s (GDP and ExportGS)**"
      ]
    },
    {
      "cell_type": "markdown",
      "metadata": {
        "id": "Tqx1kh-OlW90"
      },
      "source": [
        "##**Enguse v/s (GDP and ImportGS)**"
      ]
    },
    {
      "cell_type": "markdown",
      "metadata": {
        "id": "LgWCmKI0lXLR"
      },
      "source": [
        "##**Enguse v/s (ImportGS and ExportGS)**"
      ]
    },
    {
      "cell_type": "markdown",
      "metadata": {
        "id": "U3V6MRg3lXV3"
      },
      "source": [
        "##**Enguse v/s (TotPop and ExportGS)**"
      ]
    },
    {
      "cell_type": "markdown",
      "metadata": {
        "id": "XUXPaYk5lXgK"
      },
      "source": [
        "##**Enguse v/s (TotPop and ImportGS)**"
      ]
    },
    {
      "cell_type": "markdown",
      "metadata": {
        "id": "5YGYy6gZmLoD"
      },
      "source": [
        "#**SVR (3,4)**"
      ]
    },
    {
      "cell_type": "markdown",
      "metadata": {
        "id": "vBF5mSEEmVvX"
      },
      "source": [
        "##**Enguse v/s (GDP, TotPop and ExportGS)**"
      ]
    },
    {
      "cell_type": "markdown",
      "metadata": {
        "id": "pn1iIyKamV80"
      },
      "source": [
        "##**Enguse v/s (GDP, TotPop and ImportGS)**"
      ]
    },
    {
      "cell_type": "markdown",
      "metadata": {
        "id": "lfiI6U4RmWHJ"
      },
      "source": [
        "##**Enguse v/s (GDP, ExportGS and ImportGS)**"
      ]
    },
    {
      "cell_type": "markdown",
      "metadata": {
        "id": "TP_AiFXMmWRA"
      },
      "source": [
        "##**Enguse v/s (TotPop, ExportGS and ImportGS)**"
      ]
    },
    {
      "cell_type": "markdown",
      "metadata": {
        "id": "RJ0fA9zum4cE"
      },
      "source": [
        "#**SVR (4,1)**"
      ]
    },
    {
      "cell_type": "markdown",
      "metadata": {
        "id": "lvxe_aJlm-uP"
      },
      "source": [
        "##**Enguse v/s (GDP, TotPop, ExportGS and ImportGS)**"
      ]
    }
  ]
}
